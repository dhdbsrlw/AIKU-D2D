{
  "cells": [
    {
      "cell_type": "code",
      "source": [
        "# Google Drive를 Colab VM에 Mount 합니다.\n",
        "# '로그인 하겠습니까?' 묻는 창이 나오면 허가 해 주세요.\n",
        "from google.colab import drive\n",
        "drive.mount('/content/drive')"
      ],
      "metadata": {
        "colab": {
          "base_uri": "https://localhost:8080/"
        },
        "id": "qVNOPA3Cis-H",
        "outputId": "4a33cb63-d3e4-420d-c747-47a3ab377f0e"
      },
      "execution_count": 1,
      "outputs": [
        {
          "output_type": "stream",
          "name": "stdout",
          "text": [
            "Mounted at /content/drive\n"
          ]
        }
      ]
    },
    {
      "cell_type": "code",
      "execution_count": 2,
      "metadata": {
        "id": "JeXa6KG1pR1s",
        "colab": {
          "base_uri": "https://localhost:8080/"
        },
        "outputId": "5a426eba-2f92-4c1a-8ac5-504c14609b06"
      },
      "outputs": [
        {
          "output_type": "stream",
          "name": "stdout",
          "text": [
            "[Errno 2] No such file or directory: '/content/drive/My Drive//content/drive/MyDrive/D2D/1-hello-pytorch-hello-cnn/D2D/datasets/'\n",
            "/content\n",
            "bash: get_datasets.sh: No such file or directory\n",
            "[Errno 2] No such file or directory: '/content/drive/My Drive//content/drive/MyDrive/D2D/1-hello-pytorch-hello-cnn/D2D'\n",
            "/content\n"
          ]
        }
      ],
      "source": [
        "# 과제 파일을 다운 받은 경로를 입력해야 합니다.\n",
        "# Google Drive의 폴더 경로는 /content/drive/My Drive/ 부터 시작합니다.\n",
        "# 즉, 만약 당신이 구글 드라이브 최상단에 있는 'D2D' 폴더에 해당 파일을 다운 받았다고 합시다.\n",
        "# 그러면 D2D 안에는 'Assignment 0' Colab 파일과, datasets 폴더가 있을 것입니다.\n",
        "# 그렇다면 밑의 경로에는 '/D2D' 라고 적어주면 됩니다. 마지막에 '/'가 없음에 유의해 주세요.\n",
        "FOLDERNAME = '/content/drive/MyDrive/D2D/1-hello-pytorch-hello-cnn/D2D'\n",
        "assert FOLDERNAME is not None, \"[!] Enter the foldername.\"\n",
        "\n",
        "# 이제 Drive를 마운트 했음을 확인했습니다.\n",
        "# Python interpreter가 Colab VM이 python files를 load 할 수 있는지 확인합니다.\n",
        "import sys\n",
        "sys.path.append('/content/drive/My Drive/{}'.format(FOLDERNAME))\n",
        "\n",
        "# 이 코드는 CIFAR-10 dataset이 Drive에 있는지 확인하고, 없으면 저장합니다.\n",
        "%cd /content/drive/My\\ Drive/$FOLDERNAME/datasets/\n",
        "!bash get_datasets.sh\n",
        "%cd /content/drive/My\\ Drive/$FOLDERNAME"
      ]
    },
    {
      "cell_type": "markdown",
      "metadata": {
        "id": "vtsHWi7KpR1x"
      },
      "source": [
        "# PyTorch 시작하기\n",
        "**AIKU 학회원 여러분!** 딥러닝을 향한 여정에 발 들인 것을 환영합니다😄.\n",
        "\n",
        "학회원 여러분이 앞으로 마주하게 될 여러 어려움들이 있을텐데, Deep Into Deep의 수업과 과제가 그 길에 조금은 도움이 되길 바랍니다.\n",
        "\n",
        "본 과제는 CS231n, 고려대학교 딥러닝 수업 등 여러 좋은 과제들을 혼합해 만들어 졌음을 미리 알립니다. 거인의 어깨를 만들어준 여러분 감사합니다!\n",
        "\n",
        "다시 한 번 만나서 반갑습니다! **Happy Hacking!**"
      ]
    },
    {
      "cell_type": "markdown",
      "metadata": {
        "id": "r7e58EDipR1z"
      },
      "source": [
        "## 왜 Deep Learning frameworks를 써야할까요?\n",
        "\n",
        "* 우리의 Code를 GPU로 실행 시킬 수 있습니다! 이를 통해 모델을 훨씬 빠르게 훈련할 수 있습니다. PyTorch나 TensorFlow와 같은 프레임워크를 사용하면 CUDA 코드를 직접 작성할 필요 없이(이 강의의 범위를 벗어나는) 자신만의 맞춤형 신경망 아키텍처를 위해 GPU의 성능을 활용할 수 있습니다.\n",
        "\n",
        "* 이 강의에서는 프로젝트에 이러한 프레임워크 중 하나 (PyTorch)를 사용하여 사용하려는 모든 기능을 직접 작성할 때보다 더 효율적으로 실험할 수 있도록 준비할 것입니다.\n",
        "\n",
        "* 거인들의 어깨 위에 서 보시기 바랍니다! TensorFlow와 PyTorch는 모두 여러분의 삶을 훨씬 편하게 만들어줄 훌륭한 프레임워크이며, 이제 그 기능을 이해하셨으니 자유롭게 사용하셔도 됩니다 :)\n",
        "\n",
        "* 마지막으로, 학계나 업계에서 접할 수 있는 딥 러닝 코드에 노출되기를 바랍니다.\n",
        "\n",
        "## PyTorch란 무엇일까요?\n",
        "numpy의 ndarray와 비슷하게 동작하는 **Tensor objects**에 대해서 동적 computational graphs를 실행하는 시스템입니다. PyTorch는 사람이 직접 backpropagation을 계산할 필요가 없이 강력한 **자동 미분** 엔진을 제공합니다.\n",
        "\n",
        "## 어떻게 PyTorch를 배울 수 있을까요?\n",
        "이 과제만으로는 PyTorch 전반을 이해하는데 어려움이 있을 수 있습니다.\n",
        "\n",
        "여러 가지 방법이 추천되지만, 도움이 될 만한 사이트와 학습 방법을 알려드리겠습니다.\n",
        "\n",
        "PyTorch 공식 한국어 튜토리얼 :\n",
        "https://tutorials.pytorch.kr/beginner/basics/intro.html\n",
        "\n",
        "Stanford의 PyTorch 강의 : https://github.com/jcjohnson/pytorch-examples\n"
      ]
    },
    {
      "cell_type": "markdown",
      "metadata": {
        "id": "Ulz-ISjJpR10"
      },
      "source": [
        "# 목차\n",
        "이 과제는 6개의 파트로 구성되어 있습니다. 파이토치를 더 잘 이해하고 최종 프로젝트를 준비하는 데 도움이 되는 **세 가지 추상화 수준**에서 파이토치를 배우게 됩니다.\n",
        "\n",
        "이에 더해, 수업 시간에 배웠던 **AlexNet**을 재구현해 보면서 PyTorch에서 CNN Layer를 어떻게 사용할 수 있을지 배우게 됩니다.\n",
        "\n",
        "1. Part I, 준비: CIFAR-10 데이터 세트를 사용합니다.\n",
        "2. Part II, Barebones PyTorch: **추상화 수준 1**의 가장 낮은 수준의 PyTorch 텐서로 직접 작업합니다.\n",
        "3. Part III, PyTorch Module API: **추상화 수준 2**에서는 `nn.Module`을 사용하여 임의의 신경망 아키텍처를 정의합니다.\n",
        "4. Part IV, PyTorch Sequential API: **추상화 수준 3**에서는 `nn.Sequential`을 사용하여 Linear Feed-Forward Network를 매우 편리하게 정의합니다. + **AlexNet**을 재구현해 봅시다!\n",
        "5. Part V, CIFAR-10 open-ended challenge: CIFAR-10에서 가능한 한 높은 정확도를 얻기 위해 자신만의 네트워크를 구현하세요. Layer, Optimizer, hyperparameters 또는 기타 고급 기능으로 실험해 볼 수 있습니다.\n",
        "6. Additional Part, Pretrained model 불러오기: torchvision에서 다양한 pretrained model을 불러보고 finetuning 해 봅시다.\n",
        "\n",
        "다음은 비교 표입니다:\n",
        "\n",
        "| API | 유연성 | 편의성 |\n",
        "|---------------|-------------|-------------|\n",
        "| Barebones | 높음 | 낮음 |\n",
        "| `nn.Module` | 높음 | 중간 |\n",
        "| `nn.Sequential` | 낮음 | 높음 |"
      ]
    },
    {
      "cell_type": "markdown",
      "metadata": {
        "id": "aZQFg1RRpR11"
      },
      "source": [
        "# GPU\n",
        "`런타임 -> 런타임 유형 변경`을 클릭하고 `하드웨어 가속기` 아래에서 `GPU`를 선택하면 Colab에서 GPU 장치로 수동 전환할 수 있습니다. 런타임을 전환하면 커널이 다시 시작되므로 패키지를 가져오기 위해 다음 셀을 실행하기 전에 이 작업을 수행해야 합니다."
      ]
    },
    {
      "cell_type": "code",
      "execution_count": 3,
      "metadata": {
        "id": "cKvYIhDDpR12",
        "colab": {
          "base_uri": "https://localhost:8080/"
        },
        "outputId": "79c0b20c-f577-4c60-9aeb-4b2914330c17"
      },
      "outputs": [
        {
          "output_type": "stream",
          "name": "stdout",
          "text": [
            "using device: cuda\n"
          ]
        }
      ],
      "source": [
        "import torch\n",
        "import torch.nn as nn\n",
        "import torch.optim as optim\n",
        "from torch.utils.data import DataLoader\n",
        "from torch.utils.data import sampler\n",
        "\n",
        "import torchvision.datasets as dset\n",
        "import torchvision.transforms as T\n",
        "\n",
        "import numpy as np\n",
        "from matplotlib import pyplot as plt\n",
        "\n",
        "USE_GPU = True\n",
        "dtype = torch.float32 # We will be using float throughout this tutorial.\n",
        "\n",
        "if USE_GPU and torch.cuda.is_available():\n",
        "    device = torch.device('cuda')\n",
        "else:\n",
        "    device = torch.device('cpu')\n",
        "\n",
        "# Constant to control how frequently we print train loss.\n",
        "print_every = 100\n",
        "print('using device:', device)"
      ]
    },
    {
      "cell_type": "markdown",
      "metadata": {
        "id": "e4q1RwwngAJz"
      },
      "source": [
        "`using device: cuda`가 나오면 성공입니다!"
      ]
    },
    {
      "cell_type": "markdown",
      "metadata": {
        "id": "swu-jxUigCVr"
      },
      "source": [
        "## What is 'CUDA'?\n",
        "\n",
        "\n",
        "> CUDA(\"Compute Unified Device Architecture\", 쿠다)는 그래픽 처리 장치(GPU)에서 수행하는 (병렬 처리) 알고리즘을 C 프로그래밍 언어를 비롯한 산업 표준 언어를 사용하여 작성할 수 있도록 하는 GPGPU 기술이다. -Wikipedia-\n",
        "\n",
        "GPU는 원래 그 이름에서도 알 수 있듯이 Graphic 연산을 위한 장치였습니다. 하지만 GPU가 병렬 처리를 매우 빠른 속도로 처리한다는 점에 주목하여, 일반적인 matrix 연산에 사용될 수 있는 GPGPU 기술이 제시되었습니다. NVIDA가 지원하는 CUDA를 통해 개발자들이 쉽게 GPU 상에서 병렬 처리 알고리즘을 실행할 수 있게 도와줍니다.\n",
        "\n",
        "지금 과제는 Colab에서 진행되므로 특별히 CUDA Version을 설정해 줄 필요가 없습니다. 그렇지만, 앞으로 Local, 또는 Server에서 Deep Learning 코드를 실행하다 보면 CUDA, PyTorch 버젼과 관련된 오류를 많이 마주할 것입니다. 그럴 땐 다음과 같은 기술을 검토해 보세요.\n",
        "* Anaconda\n",
        "\n"
      ]
    },
    {
      "cell_type": "markdown",
      "metadata": {
        "id": "E9fI9EE0pR12"
      },
      "source": [
        "# Part I. 준비\n",
        "이제 CIFAR-10 데이터 세트를 로드해 보겠습니다. 처음 몇 분 정도 걸릴 수 있지만 그 이후에는 파일이 캐시된 상태로 유지됩니다."
      ]
    },
    {
      "cell_type": "code",
      "execution_count": 24,
      "metadata": {
        "id": "MDBJu2TJpR13",
        "colab": {
          "base_uri": "https://localhost:8080/"
        },
        "outputId": "c1344d68-7202-4baf-fa33-b37bcc211639"
      },
      "outputs": [
        {
          "output_type": "stream",
          "name": "stdout",
          "text": [
            "Files already downloaded and verified\n",
            "Files already downloaded and verified\n",
            "Files already downloaded and verified\n"
          ]
        }
      ],
      "source": [
        "NUM_TRAIN = 49000\n",
        "\n",
        "# The torchvision.transforms package provides tools for preprocessing data\n",
        "# and for performing data augmentation; here we set up a transform to\n",
        "# preprocess the data by subtracting the mean RGB value and dividing by the\n",
        "# standard deviation of each RGB value; we've hardcoded the mean and std.\n",
        "transform = T.Compose([\n",
        "                T.ToTensor(),\n",
        "                T.Resize((227, 227)),# Add for Reimplementatino AlexNet - Upsampling\n",
        "                T.Normalize((0.4914, 0.4822, 0.4465), (0.2023, 0.1994, 0.2010))\n",
        "            ])\n",
        "\n",
        "# We set up a Dataset object for each split (train / val / test); Datasets load\n",
        "# training examples one at a time, so we wrap each Dataset in a DataLoader which\n",
        "# iterates through the Dataset and forms minibatches. We divide the CIFAR-10\n",
        "# training set into train and val sets by passing a Sampler object to the\n",
        "# DataLoader telling how it should sample from the underlying Dataset.\n",
        "cifar10_train = dset.CIFAR10('./datasets', train=True, download=True,\n",
        "                             transform=transform)\n",
        "loader_train = DataLoader(cifar10_train, batch_size=64,\n",
        "                          sampler=sampler.SubsetRandomSampler(range(NUM_TRAIN)))\n",
        "\n",
        "cifar10_val = dset.CIFAR10('./datasets', train=True, download=True,\n",
        "                           transform=transform)\n",
        "loader_val = DataLoader(cifar10_val, batch_size=64,\n",
        "                        sampler=sampler.SubsetRandomSampler(range(NUM_TRAIN, 50000)))\n",
        "\n",
        "cifar10_test = dset.CIFAR10('./datasets', train=False, download=True,\n",
        "                            transform=transform)\n",
        "loader_test = DataLoader(cifar10_test, batch_size=64)"
      ]
    },
    {
      "cell_type": "markdown",
      "metadata": {
        "id": "yTVAtckopR14"
      },
      "source": [
        "# Part II. Barebones PyTorch\n",
        "PyTorch는 모델 아키텍처를 편리하게 정의하는 데 도움이 되는 하이레벨 API와 함께 제공되며, 이 튜토리얼의 Part II에서는 이를 다룰 것입니다. 이 섹션에서는 autograd engine을 더 잘 이해하기 위해 Barebones PyTorch 요소부터 시작하겠습니다. 이 연습을 마치면 하이레벨 모델 API를 더 잘 이해하게 될 것입니다.\n",
        "\n",
        "두 개의 숨겨진 레이어가 있고 CIFAR 분류를 위한 bias가 없는 간단한 Fully-connected ReLU 네트워크로 시작하겠습니다. 이 구현은 PyTorch 텐서에서 연산을 사용하여 forward pass를 계산하고 PyTorch autograd를 사용하여 gradient를 계산합니다. 이 예제 이후에 더 어려운 버전을 작성할 것이므로 모든 줄을 이해하는 것이 중요합니다.\n",
        "\n",
        "`requires_grad = True`로 PyTorch 텐서를 생성하면 해당 텐서를 포함하는 연산은 값만 계산하는 것이 아니라 백그라운드에서 계산 그래프를 구축하여 그래프를 통해 쉽게 역전파하여 다운스트림 손실에 대한 일부 텐서의 기울기를 계산할 수 있게 해줍니다. 구체적으로 x가 `x.requires_grad == True`인 텐서인 경우, 역전파 후 `x.grad`는 마지막에 scalar loss에 대한 x의 기울기를 보유하는 또 다른 텐서가 될 것입니다."
      ]
    },
    {
      "cell_type": "markdown",
      "metadata": {
        "id": "KLO6iHpBpR15"
      },
      "source": [
        "### PyTorch Tensors: Flatten 함수\n",
        "PyTorch Tensors는 개념적으로 n차원 배열과 유사합니다. n차원 숫자 그리드이며, PyTorch는 n차원 배열과 마찬가지로 텐서에서 효율적으로 작동할 수 있는 많은 함수를 제공합니다. 간단한 예로, 아래에서는 완전히 연결된 신경망에서 사용할 수 있도록 이미지 데이터를 재구성하는 `flatten` 함수를 제공합니다.\n",
        "\n",
        "이미지 데이터는 일반적으로 N x C x H x W 형태의 텐서에 저장된다는 점을 기억하세요:\n",
        "\n",
        "* N은 데이터 포인트의 수입니다.\n",
        "* C는 채널 수입니다.\n",
        "* H는 중간 특징 맵의 픽셀 단위 높이입니다.\n",
        "* W는 중간 피처 맵의 높이(픽셀)입니다.\n",
        "\n",
        "이는 2D convolution 같이 중간 특징이 서로 상대적인 위치에 대한 공간적 이해가 필요한 작업을 수행할 때 데이터를 표현하는 데 적합한 방법입니다. 그러나 fully connected affine layers를 사용하여 이미지를 처리할 때는 각 데이터 포인트를 단일 벡터로 표현해야 하므로 데이터의 여러 채널, 행, 열을 분리하는 것은 더 이상 유용하지 않습니다. 따라서 'flatten' 연산을 사용하여 표현당 `C x H x W` 값을 하나의 긴 벡터로 축소합니다. 아래의 flatten 함수는 먼저 주어진 데이터 배치에서 N, C, H, W 값을 읽은 다음 해당 데이터의 'view'를 반환합니다. \"view\"는 numpy의 \"reshape\" 메서드와 유사합니다. x의 차원을 N x ? 로 재형성하며, 여기서 ? 는 무엇이든 허용됩니다(이 경우 C x H x W가 되지만 명시적으로 지정할 필요는 없습니다)."
      ]
    },
    {
      "cell_type": "code",
      "execution_count": 5,
      "metadata": {
        "id": "pUnA0EncpR15",
        "colab": {
          "base_uri": "https://localhost:8080/"
        },
        "outputId": "a817e90c-2693-4705-97e6-8933992cceb0"
      },
      "outputs": [
        {
          "output_type": "stream",
          "name": "stdout",
          "text": [
            "Before flattening:  tensor([[[[ 0,  1],\n",
            "          [ 2,  3],\n",
            "          [ 4,  5]]],\n",
            "\n",
            "\n",
            "        [[[ 6,  7],\n",
            "          [ 8,  9],\n",
            "          [10, 11]]]])\n",
            "After flattening:  tensor([[ 0,  1,  2,  3,  4,  5],\n",
            "        [ 6,  7,  8,  9, 10, 11]])\n"
          ]
        }
      ],
      "source": [
        "def flatten(x):\n",
        "    N = x.shape[0] # read in N, C, H, W\n",
        "    return x.view(N, -1)  # \"flatten\" the C * H * W values into a single vector per image\n",
        "\n",
        "def test_flatten():\n",
        "    x = torch.arange(12).view(2, 1, 3, 2)\n",
        "    print('Before flattening: ', x)\n",
        "    print('After flattening: ', flatten(x))\n",
        "\n",
        "test_flatten()"
      ]
    },
    {
      "cell_type": "markdown",
      "metadata": {
        "id": "wpnPI6lVpR16"
      },
      "source": [
        "### Barebones PyTorch: Two-Layer Network\n",
        "\n",
        "여기에서는 이미지 데이터 배치에 대해 완전히 연결된 2계층 ReLU 네트워크의 포워드 패스를 수행하는 함수 `two_layer_fc`를 정의합니다. 포워드 패스를 정의한 후에는 네트워크를 통해 0을 실행하여 충돌이 발생하지 않는지, 올바른 모양의 출력을 생성하는지 확인합니다.\n",
        "\n",
        "여기서 코드를 작성할 필요는 없지만 구현을 읽고 이해하는 것이 중요합니다."
      ]
    },
    {
      "cell_type": "code",
      "execution_count": 6,
      "metadata": {
        "id": "vg43S8B0pR16",
        "colab": {
          "base_uri": "https://localhost:8080/"
        },
        "outputId": "be4251a3-4f91-48e5-9ceb-50882cafd228"
      },
      "outputs": [
        {
          "output_type": "stream",
          "name": "stdout",
          "text": [
            "torch.Size([64, 10])\n"
          ]
        }
      ],
      "source": [
        "import torch.nn.functional as F  # useful stateless functions\n",
        "\n",
        "def two_layer_fc(x, params):\n",
        "    \"\"\"\n",
        "    A fully-connected neural networks; the architecture is:\n",
        "    NN is fully connected -> ReLU -> fully connected layer.\n",
        "    Note that this function only defines the forward pass;\n",
        "    PyTorch will take care of the backward pass for us.\n",
        "\n",
        "    The input to the network will be a minibatch of data, of shape\n",
        "    (N, d1, ..., dM) where d1 * ... * dM = D. The hidden layer will have H units,\n",
        "    and the output layer will produce scores for C classes.\n",
        "\n",
        "    Inputs:\n",
        "    - x: A PyTorch Tensor of shape (N, d1, ..., dM) giving a minibatch of\n",
        "      input data.\n",
        "    - params: A list [w1, w2] of PyTorch Tensors giving weights for the network;\n",
        "      w1 has shape (D, H) and w2 has shape (H, C).\n",
        "\n",
        "    Returns:\n",
        "    - scores: A PyTorch Tensor of shape (N, C) giving classification scores for\n",
        "      the input data x.\n",
        "    \"\"\"\n",
        "    # first we flatten the image\n",
        "    x = flatten(x)  # shape: [batch_size, C x H x W]\n",
        "\n",
        "    w1, w2 = params\n",
        "\n",
        "    # Forward pass: compute predicted y using operations on Tensors. Since w1 and\n",
        "    # w2 have requires_grad=True, operations involving these Tensors will cause\n",
        "    # PyTorch to build a computational graph, allowing automatic computation of\n",
        "    # gradients. Since we are no longer implementing the backward pass by hand we\n",
        "    # don't need to keep references to intermediate values.\n",
        "    # you can also use `.clamp(min=0)`, equivalent to F.relu()\n",
        "    x = F.relu(x.mm(w1))\n",
        "    ## .mm 은 matrix multiplication 을 수행하는 함수\n",
        "    x = x.mm(w2)\n",
        "    return x\n",
        "\n",
        "\n",
        "def two_layer_fc_test():\n",
        "    hidden_layer_size = 42\n",
        "    x = torch.zeros((64, 50), dtype=dtype)  # minibatch size 64, feature dimension 50\n",
        "    w1 = torch.zeros((50, hidden_layer_size), dtype=dtype)\n",
        "    w2 = torch.zeros((hidden_layer_size, 10), dtype=dtype)\n",
        "    scores = two_layer_fc(x, [w1, w2])\n",
        "    print(scores.size())  # you should see [64, 10]\n",
        "\n",
        "two_layer_fc_test()"
      ]
    },
    {
      "cell_type": "markdown",
      "metadata": {
        "id": "Hpfeu2JJpR17"
      },
      "source": [
        "### Barebones PyTorch: Three-Layer ConvNet\n",
        "\n",
        "여기서는 3계층 Convolution 네트워크의 순방향 패스를 수행하는 `three_layer_convnet` 함수의 구현을 완료합니다. 위와 같이 네트워크에 0을 전달하여 구현을 즉시 테스트할 수 있습니다. 네트워크는 다음과 같은 구조를 가져야 합니다:\n",
        "\n",
        "1. `channel_1` 필터가 있는 Convolution 레이어(bias 포함), 각각 모양이 `KW1 x KH1`이고 zero padding 이 2입니다.\n",
        "2. ReLU nonlinearity\n",
        "3. `channel_2` 필터가 있는 Convolution 레이어(bias 포함), 각 필터의 모양이 `KW2 x KH2`이고 제로 패딩이 1입니다.\n",
        "4. ReLU nonlinearity\n",
        "5. bias가 있는 Fully-connected layer, C 클래스에 대한 점수를 생성합니다.\n",
        "\n",
        "Fully-connected layer 이후에는 **소프트맥스 활성화가 없음**에 유의하십시오: 이는 PyTorch의 교차 엔트로피 손실이 소프트맥스 활성화를 수행하기 때문이며, 이 단계를 번들로 묶으면 계산이 더 효율적이기 때문입니다.\n",
        "\n",
        "**힌트**: Convolutions에 대해: http://pytorch.org/docs/stable/nn.html#torch.nn.functional.conv2d; convolutional filters 모양에 주의해 주세요!"
      ]
    },
    {
      "cell_type": "code",
      "execution_count": 7,
      "metadata": {
        "id": "ECDdAX4GpR18"
      },
      "outputs": [],
      "source": [
        "def three_layer_convnet(x, params):\n",
        "    \"\"\"\n",
        "    Performs the forward pass of a three-layer convolutional network with the\n",
        "    architecture defined above.\n",
        "\n",
        "    Inputs:\n",
        "    - x: A PyTorch Tensor of shape (N, 3, H, W) giving a minibatch of images\n",
        "    - params: A list of PyTorch Tensors giving the weights and biases for the\n",
        "      network; should contain the following:\n",
        "      - conv_w1: PyTorch Tensor of shape (channel_1, 3, KH1, KW1) giving weights\n",
        "        for the first convolutional layer\n",
        "      - conv_b1: PyTorch Tensor of shape (channel_1,) giving biases for the first\n",
        "        convolutional layer\n",
        "      - conv_w2: PyTorch Tensor of shape (channel_2, channel_1, KH2, KW2) giving\n",
        "        weights for the second convolutional layer\n",
        "      - conv_b2: PyTorch Tensor of shape (channel_2,) giving biases for the second\n",
        "        convolutional layer\n",
        "      - fc_w: PyTorch Tensor giving weights for the fully-connected layer. Can you\n",
        "        figure out what the shape should be?\n",
        "      - fc_b: PyTorch Tensor giving biases for the fully-connected layer. Can you\n",
        "        figure out what the shape should be?\n",
        "\n",
        "    Returns:\n",
        "    - scores: PyTorch Tensor of shape (N, C) giving classification scores for x\n",
        "    \"\"\"\n",
        "    conv_w1, conv_b1, conv_w2, conv_b2, fc_w, fc_b = params\n",
        "    scores = None\n",
        "\n",
        "    ################################################################################\n",
        "    # TODO: Implement the forward pass for the three-layer ConvNet.                #\n",
        "    ################################################################################\n",
        "    # *****START OF YOUR CODE (DO NOT DELETE/MODIFY THIS LINE)*****\n",
        "\n",
        "    # torch.nn.Conv2d(in_channels, out_channels, kernel_size, stride=1, padding=0, dilation=1, groups=1, bias=True, padding_mode='zeros', device=None, dtype=None)\n",
        "    output_l1 = F.relu(F.conv2d(x, conv_w1, conv_b1, padding=2))\n",
        "    output_l2 = F.relu(F.conv2d(output_l1, conv_w2, conv_b2, padding=1))\n",
        "    scores = flatten(output_l2).mm(fc_w) + fc_b\n",
        "\n",
        "    # *****END OF YOUR CODE (DO NOT DELETE/MODIFY THIS LINE)*****\n",
        "    ################################################################################\n",
        "    #                                 END OF YOUR CODE                             #\n",
        "    ################################################################################\n",
        "\n",
        "    return scores"
      ]
    },
    {
      "cell_type": "markdown",
      "metadata": {
        "id": "g6hBYahWpR18"
      },
      "source": [
        "위에서 ConvNet의 포워드 패스를 정의한 후 다음 셀을 실행하여 구현을 테스트합니다.\n",
        "\n",
        "이 함수를 실행하면 점수는 (64, 10) 모양을 가져야 합니다."
      ]
    },
    {
      "cell_type": "code",
      "execution_count": 8,
      "metadata": {
        "id": "barebones_output_shape",
        "colab": {
          "base_uri": "https://localhost:8080/"
        },
        "outputId": "3dd5799e-81f5-4917-d04a-be1cd825fd38"
      },
      "outputs": [
        {
          "output_type": "stream",
          "name": "stdout",
          "text": [
            "torch.Size([64, 10])\n"
          ]
        }
      ],
      "source": [
        "def three_layer_convnet_test():\n",
        "    x = torch.zeros((64, 3, 32, 32), dtype=dtype)  # minibatch size 64, image size [3, 32, 32]\n",
        "\n",
        "    conv_w1 = torch.zeros((6, 3, 5, 5), dtype=dtype)  # [out_channel, in_channel, kernel_H, kernel_W]\n",
        "    conv_b1 = torch.zeros((6,))  # out_channel\n",
        "    conv_w2 = torch.zeros((9, 6, 3, 3), dtype=dtype)  # [out_channel, in_channel, kernel_H, kernel_W]\n",
        "    conv_b2 = torch.zeros((9,))  # out_channel\n",
        "\n",
        "    # you must calculate the shape of the tensor after two conv layers, before the fully-connected layer\n",
        "    fc_w = torch.zeros((9 * 32 * 32, 10))\n",
        "    fc_b = torch.zeros(10)\n",
        "\n",
        "    scores = three_layer_convnet(x, [conv_w1, conv_b1, conv_w2, conv_b2, fc_w, fc_b])\n",
        "    print(scores.size())  # you should see [64, 10]\n",
        "\n",
        "three_layer_convnet_test()"
      ]
    },
    {
      "cell_type": "markdown",
      "metadata": {
        "id": "2jxzynJspR19"
      },
      "source": [
        "### Barebones PyTorch: Initialization\n",
        "모델의 가중치 행렬을 초기화하는 몇 가지 유틸리티 메서드를 작성해 보겠습니다.\n",
        "\n",
        "- `random_weight(shape)`는 Kaiming normalization 방법으로 가중치 텐서를 초기화합니다.\n",
        "- `zero_weight(shape)`는 모든 0으로 가중치 텐서를 초기화합니다. 바이어스 매개변수를 인스턴스화할 때 유용합니다.\n",
        "\n",
        "`random_weight` 함수는 Kaiming normal initialization 방법을 사용합니다:\n",
        "\n",
        "He et al, *Delving Deep into Rectifiers: Surpassing Human-Level Performance on ImageNet Classification*, ICCV 2015, https://arxiv.org/abs/1502.01852"
      ]
    },
    {
      "cell_type": "code",
      "execution_count": 9,
      "metadata": {
        "id": "UXkgnTzMpR19",
        "colab": {
          "base_uri": "https://localhost:8080/"
        },
        "outputId": "4c9b1bf2-2e75-4001-fbcf-7858c0c7dabb"
      },
      "outputs": [
        {
          "output_type": "execute_result",
          "data": {
            "text/plain": [
              "tensor([[-0.6056,  2.1642,  0.5395,  0.6266,  0.3756],\n",
              "        [-1.1695, -0.0466,  0.1900,  1.2273, -0.6271],\n",
              "        [-0.3786,  0.8446,  0.3151, -0.8413,  0.9000]], device='cuda:0',\n",
              "       requires_grad=True)"
            ]
          },
          "metadata": {},
          "execution_count": 9
        }
      ],
      "source": [
        "def random_weight(shape):\n",
        "    \"\"\"\n",
        "    Create random Tensors for weights; setting requires_grad=True means that we\n",
        "    want to compute gradients for these Tensors during the backward pass.\n",
        "    We use Kaiming normalization: sqrt(2 / fan_in)\n",
        "    \"\"\"\n",
        "    if len(shape) == 2:  # FC weight\n",
        "        fan_in = shape[0]\n",
        "    else:\n",
        "        fan_in = np.prod(shape[1:]) # conv weight [out_channel, in_channel, kH, kW]\n",
        "    # randn is standard normal distribution generator.\n",
        "    w = torch.randn(shape, device=device, dtype=dtype) * np.sqrt(2. / fan_in)\n",
        "    w.requires_grad = True\n",
        "    return w\n",
        "\n",
        "def zero_weight(shape):\n",
        "    return torch.zeros(shape, device=device, dtype=dtype, requires_grad=True)\n",
        "\n",
        "# create a weight of shape [3 x 5]\n",
        "# you should see the type `torch.cuda.FloatTensor` if you use GPU.\n",
        "# Otherwise it should be `torch.FloatTensor`\n",
        "random_weight((3, 5))"
      ]
    },
    {
      "cell_type": "markdown",
      "metadata": {
        "id": "_Z1t3y6YpR19"
      },
      "source": [
        "### Barebones PyTorch: Check Accuracy\n",
        "모델을 훈련할 때 다음 함수를 사용하여 훈련 또는 검증 세트에서 모델의 정확도를 확인합니다.\n",
        "\n",
        "정확도를 확인할 때 기울기를 계산할 필요가 없으므로 점수를 계산할 때 PyTorch가 계산 그래프를 만들 필요가 없습니다. 그래프가 생성되는 것을 방지하기 위해 `torch.no_grad()` context manager에서 계산 범위를 지정합니다."
      ]
    },
    {
      "cell_type": "code",
      "execution_count": 10,
      "metadata": {
        "id": "jre5tpX2pR1-"
      },
      "outputs": [],
      "source": [
        "def check_accuracy_part2(loader, model_fn, params):\n",
        "    \"\"\"\n",
        "    Check the accuracy of a classification model.\n",
        "\n",
        "    Inputs:\n",
        "    - loader: A DataLoader for the data split we want to check\n",
        "    - model_fn: A function that performs the forward pass of the model,\n",
        "      with the signature scores = model_fn(x, params)\n",
        "    - params: List of PyTorch Tensors giving parameters of the model\n",
        "\n",
        "    Returns: Nothing, but prints the accuracy of the model\n",
        "    \"\"\"\n",
        "    split = 'val' if loader.dataset.train else 'test'\n",
        "    print('Checking accuracy on the %s set' % split)\n",
        "    num_correct, num_samples = 0, 0\n",
        "    with torch.no_grad():\n",
        "        for x, y in loader:\n",
        "            x = x.to(device=device, dtype=dtype)  # move to device, e.g. GPU\n",
        "            y = y.to(device=device, dtype=torch.int64)\n",
        "            scores = model_fn(x, params)\n",
        "            _, preds = scores.max(1)\n",
        "            num_correct += (preds == y).sum()\n",
        "            num_samples += preds.size(0)\n",
        "        acc = float(num_correct) / num_samples\n",
        "        print('Got %d / %d correct (%.2f%%)' % (num_correct, num_samples, 100 * acc))"
      ]
    },
    {
      "cell_type": "markdown",
      "metadata": {
        "id": "OwNMOvc7pR1-"
      },
      "source": [
        "### BareBones PyTorch: Training Loop\n",
        "이제 네트워크를 훈련하기 위한 basic training loop를 설정할 수 있습니다. momentum 없이 Stochastic gradient descent를 사용하여 모델을 훈련할 것입니다. 여기서는 `torch.functional.cross_entropy`를 사용하여 loss를 계산할 것입니다(http://pytorch.org/docs/stable/nn.html#cross-entropy).\n",
        "\n",
        "training loop는 신경망 함수, 초기화된 매개변수 목록(예제에서는 `[w1, w2]`), 학습 속도를 입력으로 받습니다."
      ]
    },
    {
      "cell_type": "code",
      "execution_count": 11,
      "metadata": {
        "id": "Fyt2Boy_pR1-"
      },
      "outputs": [],
      "source": [
        "def train_part2(model_fn, params, learning_rate):\n",
        "    \"\"\"\n",
        "    Train a model on CIFAR-10.\n",
        "\n",
        "    Inputs:\n",
        "    - model_fn: A Python function that performs the forward pass of the model.\n",
        "      It should have the signature scores = model_fn(x, params) where x is a\n",
        "      PyTorch Tensor of image data, params is a list of PyTorch Tensors giving\n",
        "      model weights, and scores is a PyTorch Tensor of shape (N, C) giving\n",
        "      scores for the elements in x.\n",
        "    - params: List of PyTorch Tensors giving weights for the model\n",
        "    - learning_rate: Python scalar giving the learning rate to use for SGD\n",
        "\n",
        "    Returns: Nothing\n",
        "    \"\"\"\n",
        "    for t, (x, y) in enumerate(loader_train):\n",
        "        # Move the data to the proper device (GPU or CPU)\n",
        "        x = x.to(device=device, dtype=dtype)\n",
        "        y = y.to(device=device, dtype=torch.long)\n",
        "\n",
        "        # Forward pass: compute scores and loss\n",
        "        scores = model_fn(x, params)\n",
        "        loss = F.cross_entropy(scores, y)\n",
        "\n",
        "        # Backward pass: PyTorch figures out which Tensors in the computational\n",
        "        # graph has requires_grad=True and uses backpropagation to compute the\n",
        "        # gradient of the loss with respect to these Tensors, and stores the\n",
        "        # gradients in the .grad attribute of each Tensor.\n",
        "        loss.backward()\n",
        "\n",
        "        # Update parameters. We don't want to backpropagate through the\n",
        "        # parameter updates, so we scope the updates under a torch.no_grad()\n",
        "        # context manager to prevent a computational graph from being built.\n",
        "        with torch.no_grad():\n",
        "            for w in params:\n",
        "                w -= learning_rate * w.grad\n",
        "\n",
        "                # Manually zero the gradients after running the backward pass\n",
        "                w.grad.zero_()\n",
        "\n",
        "        if t % print_every == 0:\n",
        "            print('Iteration %d, loss = %.4f' % (t, loss.item()))\n",
        "            check_accuracy_part2(loader_val, model_fn, params)\n",
        "            print()"
      ]
    },
    {
      "cell_type": "markdown",
      "metadata": {
        "id": "KhZfY1PzpR1_"
      },
      "source": [
        "### BareBones PyTorch: Train a Two-Layer Network\n",
        "이제 training loop를 실행할 준비가 되었습니다. fully connected weights인 `w1`과 `w2`에 대한 Tensor를 명시적으로 할당해야 합니다.\n",
        "\n",
        "CIFAR의 각 minibatch에는 64개의 예가 있으므로 텐서 모양은 `[64, 3, 32, 32]`입니다.\n",
        "\n",
        "flatten 후 `x` 모양은 `[64, 3 * 32 * 32]`가 되어야 합니다. 이것이 `w1`의 첫 번째 차원 크기가 됩니다.\n",
        "`w1`의 두 번째 차원은 hidden layer size이며, 이는 또한 `w2`의 첫 번째 차원이 됩니다.\n",
        "\n",
        "마지막으로 네트워크의 출력은 10개의 클래스에 대한 확률 분포를 나타내는 10차원 벡터입니다.\n",
        "\n",
        "hyperparameter를 조정할 필요는 없지만 한 회기 동안 훈련한 후에는 40% 이상의 정확도를 볼 수 있습니다."
      ]
    },
    {
      "cell_type": "code",
      "execution_count": 12,
      "metadata": {
        "id": "OVhigckkpR1_",
        "colab": {
          "base_uri": "https://localhost:8080/"
        },
        "outputId": "2c6e1f28-f647-4dc7-ad06-ed323e73e590"
      },
      "outputs": [
        {
          "output_type": "stream",
          "name": "stdout",
          "text": [
            "Iteration 0, loss = 3.8735\n",
            "Checking accuracy on the val set\n",
            "Got 140 / 1000 correct (14.00%)\n",
            "\n",
            "Iteration 100, loss = 2.6844\n",
            "Checking accuracy on the val set\n",
            "Got 309 / 1000 correct (30.90%)\n",
            "\n",
            "Iteration 200, loss = 2.0637\n",
            "Checking accuracy on the val set\n",
            "Got 371 / 1000 correct (37.10%)\n",
            "\n",
            "Iteration 300, loss = 1.8726\n",
            "Checking accuracy on the val set\n",
            "Got 409 / 1000 correct (40.90%)\n",
            "\n",
            "Iteration 400, loss = 1.7659\n",
            "Checking accuracy on the val set\n",
            "Got 395 / 1000 correct (39.50%)\n",
            "\n",
            "Iteration 500, loss = 1.7284\n",
            "Checking accuracy on the val set\n",
            "Got 407 / 1000 correct (40.70%)\n",
            "\n",
            "Iteration 600, loss = 1.6473\n",
            "Checking accuracy on the val set\n",
            "Got 462 / 1000 correct (46.20%)\n",
            "\n",
            "Iteration 700, loss = 1.6844\n",
            "Checking accuracy on the val set\n",
            "Got 427 / 1000 correct (42.70%)\n",
            "\n"
          ]
        }
      ],
      "source": [
        "hidden_layer_size = 4000\n",
        "learning_rate = 1e-2\n",
        "\n",
        "w1 = random_weight((3 * 32 * 32, hidden_layer_size))\n",
        "w2 = random_weight((hidden_layer_size, 10))\n",
        "\n",
        "train_part2(two_layer_fc, [w1, w2], learning_rate)"
      ]
    },
    {
      "cell_type": "markdown",
      "metadata": {
        "id": "8qHT93KFpR1_"
      },
      "source": [
        "### BareBones PyTorch: Training a ConvNet\n",
        "\n",
        "아래에서는 위에서 정의한 함수를 사용하여 CIFAR에서 3계층 Convolutional network를 훈련해야 합니다. 네트워크의 아키텍처는 다음과 같아야 합니다:\n",
        "\n",
        "1. 32개의 5x5 필터가 있는 컨볼루션 레이어(바이어스 포함), 제로 패딩은 2입니다.\n",
        "2. ReLU\n",
        "3. 16개의 3x3 필터가 있는 컨볼루션 레이어(바이어스 포함), 제로 패딩 1\n",
        "4. ReLU\n",
        "5. 10개의 클래스에 대한 점수를 계산하기 위한 완전 연결 레이어(바이어스 포함)\n",
        "\n",
        "위에서 정의한 `random_weight` 함수를 사용하여 가중치 행렬을 초기화해야 하며, 위의 `zero_weight` 함수를 사용하여 바이어스 벡터를 초기화해야 합니다.\n",
        "\n",
        "하이퍼파라미터를 조정할 필요는 없지만 모든 것이 올바르게 작동하면 한 에포크 후에 42% 이상의 정확도를 달성해야 합니다."
      ]
    },
    {
      "cell_type": "code",
      "execution_count": 48,
      "metadata": {
        "id": "barebones_accuracy",
        "colab": {
          "base_uri": "https://localhost:8080/"
        },
        "outputId": "de3247a5-5fbc-431f-8e36-e93b4b0b7e9f"
      },
      "outputs": [
        {
          "output_type": "stream",
          "name": "stdout",
          "text": [
            "Iteration 0, loss = 3.5098\n",
            "Checking accuracy on the val set\n",
            "Got 102 / 1000 correct (10.20%)\n",
            "\n",
            "Iteration 100, loss = 1.8785\n",
            "Checking accuracy on the val set\n",
            "Got 335 / 1000 correct (33.50%)\n",
            "\n",
            "Iteration 200, loss = 1.6536\n",
            "Checking accuracy on the val set\n",
            "Got 397 / 1000 correct (39.70%)\n",
            "\n",
            "Iteration 300, loss = 1.7931\n",
            "Checking accuracy on the val set\n",
            "Got 421 / 1000 correct (42.10%)\n",
            "\n",
            "Iteration 400, loss = 1.5640\n",
            "Checking accuracy on the val set\n",
            "Got 432 / 1000 correct (43.20%)\n",
            "\n",
            "Iteration 500, loss = 1.5681\n",
            "Checking accuracy on the val set\n",
            "Got 454 / 1000 correct (45.40%)\n",
            "\n",
            "Iteration 600, loss = 1.8443\n",
            "Checking accuracy on the val set\n",
            "Got 462 / 1000 correct (46.20%)\n",
            "\n",
            "Iteration 700, loss = 1.5068\n",
            "Checking accuracy on the val set\n",
            "Got 486 / 1000 correct (48.60%)\n",
            "\n"
          ]
        }
      ],
      "source": [
        "learning_rate = 3e-3\n",
        "\n",
        "channel_1 = 32\n",
        "channel_2 = 16\n",
        "\n",
        "conv_w1 = None\n",
        "conv_b1 = None\n",
        "conv_w2 = None\n",
        "conv_b2 = None\n",
        "fc_w = None\n",
        "fc_b = None\n",
        "\n",
        "################################################################################\n",
        "# TODO: Initialize the parameters of a three-layer ConvNet.                    #\n",
        "################################################################################\n",
        "# *****START OF YOUR CODE (DO NOT DELETE/MODIFY THIS LINE)*****\n",
        "'''\n",
        "    Inputs:\n",
        "    - x: A PyTorch Tensor of shape (N, 3, H, W) giving a minibatch of images\n",
        "    - params: A list of PyTorch Tensors giving the weights and biases for the\n",
        "      network; should contain the following:\n",
        "      - conv_w1: PyTorch Tensor of shape (channel_1, 3, KH1, KW1) giving weights\n",
        "        for the first convolutional layer\n",
        "      - conv_b1: PyTorch Tensor of shape (channel_1,) giving biases for the first\n",
        "        convolutional layer\n",
        "      - conv_w2: PyTorch Tensor of shape (channel_2, channel_1, KH2, KW2) giving\n",
        "        weights for the second convolutional layer\n",
        "      - conv_b2: PyTorch Tensor of shape (channel_2,) giving biases for the second\n",
        "        convolutional layer\n",
        "      - fc_w: PyTorch Tensor giving weights for the fully-connected layer. Can you\n",
        "        figure out what the shape should be?\n",
        "      - fc_b: PyTorch Tensor giving biases for the fully-connected layer. Can you\n",
        "        figure out what the shape should be?\n",
        "'''\n",
        "\n",
        "conv_w1 = random_weight((channel_1, 3, 5, 5))\n",
        "conv_b1 = zero_weight((channel_1, )) # Single Element Tuple\n",
        "conv_w2 = random_weight((channel_2, channel_1, 3, 3))\n",
        "conv_b2 = zero_weight((channel_2, ))\n",
        "fc_w = random_weight((32 * 32 * 16, 10)) # torch.zeros 삽질 (device unmatching error)\n",
        "fc_b = zero_weight((10,))\n",
        "\n",
        "\n",
        "# *****END OF YOUR CODE (DO NOT DELETE/MODIFY THIS LINE)*****\n",
        "################################################################################\n",
        "#                                 END OF YOUR CODE                             #\n",
        "################################################################################\n",
        "\n",
        "params = [conv_w1, conv_b1, conv_w2, conv_b2, fc_w, fc_b]\n",
        "train_part2(three_layer_convnet, params, learning_rate)"
      ]
    },
    {
      "cell_type": "markdown",
      "metadata": {
        "id": "KpzU23oApR2A"
      },
      "source": [
        "# Part III. PyTorch Module API\n",
        "\n",
        "Barebone PyTorch에서는 모든 Parameter tensors를 수작업으로 추적해야 합니다. 이는 몇 개의 텐서가 있는 소규모 네트워크에서는 괜찮지만, 대규모 네트워크에서 수십 또는 수백 개의 텐서를 추적하는 것은 매우 불편하고 오류가 발생하기 쉽습니다.\n",
        "\n",
        "PyTorch는 임의의 네트워크 아키텍처를 정의하는 동시에 학습 가능한 모든 파라미터를 추적할 수 있도록 `nn.Module` API를 제공합니다. Part II에서는 SGD를 직접 구현해 보았습니다. PyTorch는 또한 RMSProp, Adagrad, Adam과 같은 모든 일반적인 Optimizer를 구현하는 `torch.optim` 패키지를 제공합니다. 심지어 L-BFGS와 같은 대략적인 2차 방법도 지원합니다! 각 옵티마이저의 정확한 사양은 [문서](http://pytorch.org/docs/master/optim.html)를 참고하세요.\n",
        "\n",
        "모듈 API를 사용하려면 아래 단계를 따르세요:\n",
        "\n",
        "1. 서브클래스 `nn.Module`. 네트워크 클래스에 `TwoLayerFC`와 같은 직관적인 이름을 지정합니다.\n",
        "\n",
        "2. 생성자 `__init__()`에서 필요한 모든 레이어를 클래스 속성으로 정의합니다. `nn.Linear` 및 `nn.Conv2d`와 같은 레이어 객체는 그 자체로 `nn.Module` 서브클래스이며 학습 가능한 파라미터를 포함하므로 원시 텐서를 직접 인스턴스화할 필요가 없습니다. `nn.Module`이 이러한 내부 파라미터를 추적합니다. 수십 개의 내장 레이어에 대해 자세히 알아보려면 [문서](http://pytorch.org/docs/master/nn.html)를 참조하세요. **경고**: `super().__init__()`를 먼저 호출하는 것을 잊지 마세요!\n",
        "\n",
        "3. `forward()` 메서드에서 네트워크의 *연결성*을 정의합니다. 텐서를 입력으로 받고 \"변환된\" 텐서를 출력하는 함수 호출로 `__init__`에 정의된 속성을 사용해야 합니다. `forward()`에서 학습 가능한 매개변수가 있는 새 레이어를 생성하지 마세요! 모든 매개변수는 `__init__`에서 미리 선언해야 합니다.\n",
        "\n",
        "모듈 서브클래스를 정의한 후에는 객체로 인스턴스화하여 Part II의 NN 전달 함수처럼 호출할 수 있습니다.\n",
        "\n",
        "### Module API: Two-Layer Network\n",
        "다음은 fully connected 2계층 네트워크의 구체적인 예입니다:"
      ]
    },
    {
      "cell_type": "code",
      "execution_count": 13,
      "metadata": {
        "id": "WSrvts7LpR2A",
        "colab": {
          "base_uri": "https://localhost:8080/"
        },
        "outputId": "d3368045-254f-4af5-945e-20cc549a841c"
      },
      "outputs": [
        {
          "output_type": "stream",
          "name": "stdout",
          "text": [
            "torch.Size([64, 10])\n"
          ]
        }
      ],
      "source": [
        "class TwoLayerFC(nn.Module):\n",
        "    def __init__(self, input_size, hidden_size, num_classes):\n",
        "        super().__init__()\n",
        "        # assign layer objects to class attributes\n",
        "        self.fc1 = nn.Linear(input_size, hidden_size)\n",
        "        # nn.init package contains convenient initialization methods\n",
        "        # http://pytorch.org/docs/master/nn.html#torch-nn-init\n",
        "        nn.init.kaiming_normal_(self.fc1.weight)\n",
        "        self.fc2 = nn.Linear(hidden_size, num_classes)\n",
        "        nn.init.kaiming_normal_(self.fc2.weight)\n",
        "\n",
        "    def forward(self, x):\n",
        "        # forward always defines connectivity\n",
        "        x = flatten(x)\n",
        "        scores = self.fc2(F.relu(self.fc1(x)))\n",
        "        return scores\n",
        "\n",
        "def test_TwoLayerFC():\n",
        "    input_size = 50\n",
        "    x = torch.zeros((64, input_size), dtype=dtype)  # minibatch size 64, feature dimension 50\n",
        "    model = TwoLayerFC(input_size, 42, 10)\n",
        "    scores = model(x)\n",
        "    print(scores.size())  # you should see [64, 10]\n",
        "test_TwoLayerFC()"
      ]
    },
    {
      "cell_type": "markdown",
      "metadata": {
        "id": "oTbHlNclpR2A"
      },
      "source": [
        "### Module API: Three-Layer ConvNet\n",
        "이제 완전히 연결된 레이어에 이어 3계층 ConvNet을 구현할 차례입니다. 네트워크 아키텍처는 파트 II와 동일해야 합니다:\n",
        "\n",
        "1. zero-padding이 2인 `channel_1` 5x5 필터가 있는 컨볼루션 레이어\n",
        "2. ReLU\n",
        "3. `channel_2` 3x3 필터가 있는 Convolution Layer, zero-padding 1\n",
        "4. ReLU\n",
        "5. `num_classes` 클래스에 완전히 연결된 레이어\n",
        "\n",
        "Kaiming normal initialize 방법을 사용하여 모델의 가중치 행렬을 초기화해야 합니다.\n",
        "\n",
        "**HINT**: http://pytorch.org/docs/stable/nn.html#conv2d\n",
        "\n",
        "3계층 ConvNet을 구현한 후 `test_ThreeLayerConvNet` 함수가 구현을 실행하면 출력 점수의 모양에 대해 `(64, 10)`이 출력되어야 합니다."
      ]
    },
    {
      "cell_type": "code",
      "execution_count": 14,
      "metadata": {
        "id": "module_output_shape",
        "colab": {
          "base_uri": "https://localhost:8080/"
        },
        "outputId": "a92d06c8-eb41-460d-ccc5-1940b52976e8"
      },
      "outputs": [
        {
          "output_type": "stream",
          "name": "stdout",
          "text": [
            "torch.Size([64, 10])\n"
          ]
        }
      ],
      "source": [
        "class ThreeLayerConvNet(nn.Module):\n",
        "    def __init__(self, in_channel, channel_1, channel_2, num_classes):\n",
        "        super().__init__()\n",
        "        ########################################################################\n",
        "        # TODO: Set up the layers you need for a three-layer ConvNet with the  #\n",
        "        # architecture defined above.                                          #\n",
        "        ########################################################################\n",
        "        # *****START OF YOUR CODE (DO NOT DELETE/MODIFY THIS LINE)*****\n",
        "\n",
        "        self.conv1 = nn.Conv2d(in_channel, channel_1,5, padding=2)\n",
        "        nn.init.kaiming_normal_(self.conv1.weight)\n",
        "\n",
        "        self.conv2 = nn.Conv2d(channel_1, channel_2, 3, padding=1)\n",
        "        nn.init.kaiming_normal_(self.conv2.weight)\n",
        "\n",
        "        # torch.nn.Linear(in_features, out_features, bias=True, device=None, dtype=None)\n",
        "        self.fc = nn.Linear(channel_2 * 32 * 32, num_classes)\n",
        "        nn.init.kaiming_normal_(self.fc.weight)\n",
        "\n",
        "        # *****END OF YOUR CODE (DO NOT DELETE/MODIFY THIS LINE)*****\n",
        "        ########################################################################\n",
        "        #                          END OF YOUR CODE                            #\n",
        "        ########################################################################\n",
        "\n",
        "    def forward(self, x):\n",
        "        scores = None\n",
        "        ########################################################################\n",
        "        # TODO: Implement the forward function for a 3-layer ConvNet. you      #\n",
        "        # should use the layers you defined in __init__ and specify the        #\n",
        "        # connectivity of those layers in forward()                            #\n",
        "        ########################################################################\n",
        "        # *****START OF YOUR CODE (DO NOT DELETE/MODIFY THIS LINE)*****\n",
        "\n",
        "        output_l1 = F.relu(self.conv1(x))\n",
        "        output_l2 = F.relu(self.conv2(output_l1))\n",
        "        scores = self.fc(flatten(output_l2))\n",
        "\n",
        "        # *****END OF YOUR CODE (DO NOT DELETE/MODIFY THIS LINE)*****\n",
        "        ########################################################################\n",
        "        #                             END OF YOUR CODE                         #\n",
        "        ########################################################################\n",
        "        return scores\n",
        "\n",
        "\n",
        "def test_ThreeLayerConvNet():\n",
        "    x = torch.zeros((64, 3, 32, 32), dtype=dtype)  # minibatch size 64, image size [3, 32, 32]\n",
        "    model = ThreeLayerConvNet(in_channel=3, channel_1=12, channel_2=8, num_classes=10)\n",
        "    scores = model(x)\n",
        "    print(scores.size())  # you should see [64, 10]\n",
        "\n",
        "test_ThreeLayerConvNet()"
      ]
    },
    {
      "cell_type": "markdown",
      "metadata": {
        "id": "b3CDip-7pR2B"
      },
      "source": [
        "### Module API: Check Accuracy\n",
        "검증 또는 테스트 세트가 주어지면 신경망의 분류 정확도를 확인할 수 있습니다.\n",
        "\n",
        "이 버전은 Part II의 버전과 약간 다릅니다. 더 이상 매개 변수를 수동으로 전달하지 않습니다."
      ]
    },
    {
      "cell_type": "code",
      "execution_count": 15,
      "metadata": {
        "id": "7PYAZQ1DpR2B"
      },
      "outputs": [],
      "source": [
        "def check_accuracy_part34(loader, model):\n",
        "    if loader.dataset.train:\n",
        "        print('Checking accuracy on validation set')\n",
        "    else:\n",
        "        print('Checking accuracy on test set')\n",
        "    num_correct = 0\n",
        "    num_samples = 0\n",
        "    model.eval()  # set model to evaluation mode\n",
        "    with torch.no_grad():\n",
        "        for x, y in loader:\n",
        "            x = x.to(device=device, dtype=dtype)  # move to device, e.g. GPU\n",
        "            y = y.to(device=device, dtype=torch.long)\n",
        "            scores = model(x)\n",
        "            _, preds = scores.max(1)\n",
        "            num_correct += (preds == y).sum()\n",
        "            num_samples += preds.size(0)\n",
        "        acc = float(num_correct) / num_samples\n",
        "        print('Got %d / %d correct (%.2f)' % (num_correct, num_samples, 100 * acc))"
      ]
    },
    {
      "cell_type": "markdown",
      "metadata": {
        "id": "Pb6341vOpR2B"
      },
      "source": [
        "### Module API: Training Loop\n",
        "또한 약간 다른 training loop를 사용합니다. 가중치 값을 직접 업데이트하는 대신, Optimization 알고리즘의 개념을 추상화하고 신경망 최적화에 일반적으로 사용되는 대부분의 알고리즘 구현을 제공하는 `torch.optim` 패키지의 Optimizer 객체를 사용합니다."
      ]
    },
    {
      "cell_type": "code",
      "execution_count": 16,
      "metadata": {
        "id": "lY-B6AXbpR2B"
      },
      "outputs": [],
      "source": [
        "def train_part34(model, optimizer, epochs=1):\n",
        "    \"\"\"\n",
        "    Train a model on CIFAR-10 using the PyTorch Module API.\n",
        "\n",
        "    Inputs:\n",
        "    - model: A PyTorch Module giving the model to train.\n",
        "    - optimizer: An Optimizer object we will use to train the model\n",
        "    - epochs: (Optional) A Python integer giving the number of epochs to train for\n",
        "\n",
        "    Returns: Nothing, but prints model accuracies during training.\n",
        "    \"\"\"\n",
        "    model = model.to(device=device)  # move the model parameters to CPU/GPU\n",
        "    for e in range(epochs):\n",
        "        for t, (x, y) in enumerate(loader_train):\n",
        "            model.train()  # put model to training mode\n",
        "            x = x.to(device=device, dtype=dtype)  # move to device, e.g. GPU\n",
        "            y = y.to(device=device, dtype=torch.long)\n",
        "\n",
        "            scores = model(x)\n",
        "            loss = F.cross_entropy(scores, y)\n",
        "\n",
        "            # Zero out all of the gradients for the variables which the optimizer\n",
        "            # will update.\n",
        "            optimizer.zero_grad()\n",
        "\n",
        "            # This is the backwards pass: compute the gradient of the loss with\n",
        "            # respect to each  parameter of the model.\n",
        "            loss.backward()\n",
        "\n",
        "            # Actually update the parameters of the model using the gradients\n",
        "            # computed by the backwards pass.\n",
        "            optimizer.step()\n",
        "\n",
        "            if t % print_every == 0:\n",
        "                print('Iteration %d, loss = %.4f' % (t, loss.item()))\n",
        "                check_accuracy_part34(loader_val, model)\n",
        "                print()"
      ]
    },
    {
      "cell_type": "markdown",
      "metadata": {
        "id": "CMFEsm-OpR2C"
      },
      "source": [
        "### Module API: Train a Two-Layer Network\n",
        "이제 training loop를 실행할 준비가 되었습니다. Part II와 달리 이번에는 Parameter tensors를 더 이상 명시적으로 할당하지 않습니다.\n",
        "\n",
        "입력 크기, 숨겨진 레이어 크기, 클래스 수(즉, 출력 크기)를 `TwoLayerFC`의 생성자에 전달하기만 하면 됩니다.\n",
        "\n",
        "또한 `TwoLayerFC` 내에서 학습 가능한 모든 파라미터를 추적하는 옵티마이저를 정의해야 합니다.\n",
        "\n",
        "하이퍼파라미터를 조정할 필요는 없지만, 한 epoch 동안 학습한 후 40% 이상의 모델 정확도를 볼 수 있어야 합니다."
      ]
    },
    {
      "cell_type": "code",
      "execution_count": 54,
      "metadata": {
        "id": "TCwaZfJTpR2C",
        "colab": {
          "base_uri": "https://localhost:8080/"
        },
        "outputId": "09c301f0-87c8-467a-8155-46fa443b177e"
      },
      "outputs": [
        {
          "output_type": "stream",
          "name": "stdout",
          "text": [
            "Iteration 0, loss = 3.0247\n",
            "Checking accuracy on validation set\n",
            "Got 163 / 1000 correct (16.30)\n",
            "\n",
            "Iteration 100, loss = 2.1811\n",
            "Checking accuracy on validation set\n",
            "Got 323 / 1000 correct (32.30)\n",
            "\n",
            "Iteration 200, loss = 2.2365\n",
            "Checking accuracy on validation set\n",
            "Got 390 / 1000 correct (39.00)\n",
            "\n",
            "Iteration 300, loss = 1.9493\n",
            "Checking accuracy on validation set\n",
            "Got 403 / 1000 correct (40.30)\n",
            "\n",
            "Iteration 400, loss = 1.7294\n",
            "Checking accuracy on validation set\n",
            "Got 424 / 1000 correct (42.40)\n",
            "\n",
            "Iteration 500, loss = 1.8659\n",
            "Checking accuracy on validation set\n",
            "Got 420 / 1000 correct (42.00)\n",
            "\n",
            "Iteration 600, loss = 1.7891\n",
            "Checking accuracy on validation set\n",
            "Got 412 / 1000 correct (41.20)\n",
            "\n",
            "Iteration 700, loss = 1.7652\n",
            "Checking accuracy on validation set\n",
            "Got 453 / 1000 correct (45.30)\n",
            "\n"
          ]
        }
      ],
      "source": [
        "hidden_layer_size = 4000\n",
        "learning_rate = 1e-2\n",
        "model = TwoLayerFC(3 * 32 * 32, hidden_layer_size, 10)\n",
        "optimizer = optim.SGD(model.parameters(), lr=learning_rate)\n",
        "\n",
        "train_part34(model, optimizer)"
      ]
    },
    {
      "cell_type": "markdown",
      "metadata": {
        "id": "OvnHTm_MpR2C"
      },
      "source": [
        "### Module API: Train a Three-Layer ConvNet\n",
        "이제 Module API를 사용하여 CIFAR에서 3계층 ConvNet을 훈련해야 합니다. 이는 2계층 네트워크 훈련과 매우 유사하게 보일 것입니다! 하이퍼파라미터를 조정할 필요는 없지만, 한 회기 동안 훈련한 후 45% 이상을 달성해야 합니다.\n",
        "\n",
        "Momentum이 없는 Stochastic gradient descent를 사용하여 모델을 훈련해야 합니다."
      ]
    },
    {
      "cell_type": "code",
      "execution_count": 55,
      "metadata": {
        "id": "module_accuracy",
        "colab": {
          "base_uri": "https://localhost:8080/"
        },
        "outputId": "bfc8dbc2-8d2b-47db-8994-49cdb3b01883"
      },
      "outputs": [
        {
          "output_type": "stream",
          "name": "stdout",
          "text": [
            "Iteration 0, loss = 3.5091\n",
            "Checking accuracy on validation set\n",
            "Got 125 / 1000 correct (12.50)\n",
            "\n",
            "Iteration 100, loss = 1.9558\n",
            "Checking accuracy on validation set\n",
            "Got 367 / 1000 correct (36.70)\n",
            "\n",
            "Iteration 200, loss = 1.9802\n",
            "Checking accuracy on validation set\n",
            "Got 417 / 1000 correct (41.70)\n",
            "\n",
            "Iteration 300, loss = 1.5592\n",
            "Checking accuracy on validation set\n",
            "Got 413 / 1000 correct (41.30)\n",
            "\n",
            "Iteration 400, loss = 1.7842\n",
            "Checking accuracy on validation set\n",
            "Got 396 / 1000 correct (39.60)\n",
            "\n",
            "Iteration 500, loss = 1.5841\n",
            "Checking accuracy on validation set\n",
            "Got 441 / 1000 correct (44.10)\n",
            "\n",
            "Iteration 600, loss = 1.4026\n",
            "Checking accuracy on validation set\n",
            "Got 468 / 1000 correct (46.80)\n",
            "\n",
            "Iteration 700, loss = 1.6362\n",
            "Checking accuracy on validation set\n",
            "Got 463 / 1000 correct (46.30)\n",
            "\n"
          ]
        }
      ],
      "source": [
        "learning_rate = 3e-3\n",
        "channel_1 = 32\n",
        "channel_2 = 16\n",
        "\n",
        "model = None\n",
        "optimizer = None\n",
        "################################################################################\n",
        "# TODO: Instantiate your ThreeLayerConvNet model and a corresponding optimizer #\n",
        "################################################################################\n",
        "# *****START OF YOUR CODE (DO NOT DELETE/MODIFY THIS LINE)*****\n",
        "\n",
        "model = ThreeLayerConvNet(3 , channel_1, channel_2, 10)\n",
        "optimizer = optim.SGD(model.parameters(), lr=learning_rate)\n",
        "\n",
        "# *****END OF YOUR CODE (DO NOT DELETE/MODIFY THIS LINE)*****\n",
        "################################################################################\n",
        "#                                 END OF YOUR CODE                             #\n",
        "################################################################################\n",
        "\n",
        "train_part34(model, optimizer)"
      ]
    },
    {
      "cell_type": "markdown",
      "metadata": {
        "id": "lsFqIP43pR2D"
      },
      "source": [
        "# Part IV. PyTorch Sequential API\n",
        "\n",
        "Part III에서는 임의의 학습 가능한 레이어와 그 연결성을 정의할 수 있는 PyTorch 모듈 API를 소개했습니다.\n",
        "\n",
        "Feed forward layers과 같은 간단한 모델의 경우, `nn.Module` 서브클래스를 생성하고, `__init__`에서 클래스 속성에 레이어를 할당하고, `forward()`에서 각 레이어를 하나씩 호출하는 3단계를 거쳐야 합니다. 더 편리한 방법이 있을까요?\n",
        "\n",
        "다행히도 PyTorch에서는 위의 단계를 하나로 합친 `nn.Sequential`이라는 컨테이너 모듈을 제공합니다. feed forward stacks보다 더 복잡한 topology를 지정할 수 없기 때문에 `nn.Module`만큼 유연하지는 않지만, 많은 사용 사례에 충분합니다.\n",
        "\n",
        "### Sequential API: 2계층 네트워크\n",
        "`nn.Sequential`을 사용하여 2계층 fully connected 네트워크 예제를 다시 작성하고 위에서 정의한 training loop를 사용하여 트레이닝하는 방법을 살펴봅시다.\n",
        "\n",
        "여기서도 하이퍼파라미터를 조정할 필요는 없지만, 한 번의 훈련 후에는 40% 이상의 정확도를 달성해야 합니다."
      ]
    },
    {
      "cell_type": "code",
      "execution_count": 17,
      "metadata": {
        "id": "hTN-_2OmpR2D",
        "colab": {
          "base_uri": "https://localhost:8080/"
        },
        "outputId": "0d49ae07-c9d2-49c3-8553-592a9c84e61e"
      },
      "outputs": [
        {
          "output_type": "stream",
          "name": "stdout",
          "text": [
            "Iteration 0, loss = 2.2999\n",
            "Checking accuracy on validation set\n",
            "Got 176 / 1000 correct (17.60)\n",
            "\n",
            "Iteration 100, loss = 2.0671\n",
            "Checking accuracy on validation set\n",
            "Got 395 / 1000 correct (39.50)\n",
            "\n",
            "Iteration 200, loss = 1.7053\n",
            "Checking accuracy on validation set\n",
            "Got 425 / 1000 correct (42.50)\n",
            "\n",
            "Iteration 300, loss = 1.8429\n",
            "Checking accuracy on validation set\n",
            "Got 401 / 1000 correct (40.10)\n",
            "\n",
            "Iteration 400, loss = 1.7399\n",
            "Checking accuracy on validation set\n",
            "Got 449 / 1000 correct (44.90)\n",
            "\n",
            "Iteration 500, loss = 1.7371\n",
            "Checking accuracy on validation set\n",
            "Got 425 / 1000 correct (42.50)\n",
            "\n",
            "Iteration 600, loss = 1.9475\n",
            "Checking accuracy on validation set\n",
            "Got 421 / 1000 correct (42.10)\n",
            "\n",
            "Iteration 700, loss = 1.9997\n",
            "Checking accuracy on validation set\n",
            "Got 435 / 1000 correct (43.50)\n",
            "\n"
          ]
        }
      ],
      "source": [
        "# We need to wrap `flatten` function in a module in order to stack it\n",
        "# in nn.Sequential\n",
        "class Flatten(nn.Module):\n",
        "    def forward(self, x):\n",
        "        return flatten(x)\n",
        "\n",
        "hidden_layer_size = 4000\n",
        "learning_rate = 1e-2\n",
        "\n",
        "model = nn.Sequential(\n",
        "    Flatten(),\n",
        "    nn.Linear(3 * 32 * 32, hidden_layer_size),\n",
        "    nn.ReLU(),\n",
        "    nn.Linear(hidden_layer_size, 10),\n",
        ")\n",
        "\n",
        "# you can use Nesterov momentum in optim.SGD\n",
        "optimizer = optim.SGD(model.parameters(), lr=learning_rate,\n",
        "                     momentum=0.9, nesterov=True)\n",
        "\n",
        "train_part34(model, optimizer)"
      ]
    },
    {
      "cell_type": "markdown",
      "metadata": {
        "id": "Ppx-dXtZpR2D"
      },
      "source": [
        "### Sequential API: Three-Layer ConvNet\n",
        "여기서는 `nn.Sequential`을 사용하여 Part III에서 사용한 것과 동일한 아키텍처로 3계층 ConvNet을 정의하고 훈련해야 합니다:\n",
        "\n",
        "1. 32개의 5x5 필터가 있는 Convolution 레이어(바이어스 포함), zero-padding은 2입니다.\n",
        "2. ReLU\n",
        "3. 16개의 3x3 필터가 있는 Convolution 레이어(바이어스 포함), zero-padding 1\n",
        "4. ReLU\n",
        "5. 10개의 클래스에 대한 점수를 계산하기 위한  fully-connected layer(바이어스 포함)\n",
        "\n",
        "기본 PyTorch 가중치 초기화를 사용할 수 있습니다.\n",
        "\n",
        "Nesterov momentum 0.9의 확률적 경사 하강을 사용하여 모델을 최적화해야 합니다.\n",
        "\n",
        "다시 말하지만, 하이퍼파라미터를 조정할 필요는 없지만 한 번의 훈련 후에는 55% 이상의 정확도를 볼 수 있어야 합니다."
      ]
    },
    {
      "cell_type": "code",
      "execution_count": 57,
      "metadata": {
        "id": "CP6-UsQtzMeI",
        "colab": {
          "base_uri": "https://localhost:8080/"
        },
        "outputId": "172624df-8609-413b-e9a8-9674eb115f5b"
      },
      "outputs": [
        {
          "output_type": "stream",
          "name": "stdout",
          "text": [
            "Iteration 0, loss = 2.3343\n",
            "Checking accuracy on validation set\n",
            "Got 137 / 1000 correct (13.70)\n",
            "\n",
            "Iteration 100, loss = 1.4460\n",
            "Checking accuracy on validation set\n",
            "Got 425 / 1000 correct (42.50)\n",
            "\n",
            "Iteration 200, loss = 1.5555\n",
            "Checking accuracy on validation set\n",
            "Got 487 / 1000 correct (48.70)\n",
            "\n",
            "Iteration 300, loss = 1.3305\n",
            "Checking accuracy on validation set\n",
            "Got 525 / 1000 correct (52.50)\n",
            "\n",
            "Iteration 400, loss = 1.4235\n",
            "Checking accuracy on validation set\n",
            "Got 550 / 1000 correct (55.00)\n",
            "\n",
            "Iteration 500, loss = 1.2276\n",
            "Checking accuracy on validation set\n",
            "Got 571 / 1000 correct (57.10)\n",
            "\n",
            "Iteration 600, loss = 1.4553\n",
            "Checking accuracy on validation set\n",
            "Got 557 / 1000 correct (55.70)\n",
            "\n",
            "Iteration 700, loss = 1.1011\n",
            "Checking accuracy on validation set\n",
            "Got 570 / 1000 correct (57.00)\n",
            "\n"
          ]
        }
      ],
      "source": [
        "channel_1 = 32\n",
        "channel_2 = 16\n",
        "learning_rate = 1e-2\n",
        "\n",
        "model = None\n",
        "optimizer = None\n",
        "\n",
        "################################################################################\n",
        "# TODO: Rewrite the 2-layer ConvNet with bias from Part III with the           #\n",
        "# Sequential API.                                                              #\n",
        "################################################################################\n",
        "# *****START OF YOUR CODE (DO NOT DELETE/MODIFY THIS LINE)*****\n",
        "\n",
        "# torch.nn.Sequential(*args: Module)\n",
        "model = nn.Sequential(\n",
        "    nn.Conv2d(3, channel_1, 5, padding=2),\n",
        "    nn.ReLU(),\n",
        "    nn.Conv2d(channel_1, channel_2, 3, padding=1),\n",
        "    nn.ReLU(),\n",
        "    Flatten(),\n",
        "    nn.Linear(channel_2 * 32 * 32, 10)\n",
        ")\n",
        "\n",
        "optimizer = optim.SGD(model.parameters(), lr=learning_rate,\n",
        "                     momentum=0.9, nesterov=True)\n",
        "\n",
        "# *****END OF YOUR CODE (DO NOT DELETE/MODIFY THIS LINE)*****\n",
        "################################################################################\n",
        "#                                 END OF YOUR CODE                             #\n",
        "################################################################################\n",
        "\n",
        "train_part34(model, optimizer)"
      ]
    },
    {
      "cell_type": "markdown",
      "metadata": {
        "id": "8AhsbVrNoPt7"
      },
      "source": [
        "# Let's do this! - Reimplement AlexNet\n",
        "이제 PyTorch의 기본적인 사용법을 모두 배워 봤습니다. 지금까지 배웠던 내용을 바탕으로 Deep Into Deep 수업 중에 다루었던 모델 중 하나인 [AlexNet](https://papers.nips.cc/paper_files/paper/2012/hash/c399862d3b9d6b76c8436e924a68c45b-Abstract.html)을 재구현해 보도록 하겠습니다.\n"
      ]
    },
    {
      "cell_type": "markdown",
      "metadata": {
        "id": "DdF9qsXnLi_W"
      },
      "source": [
        "## AlexNet Architecture\n",
        "AlexNet의 전체적인 구조는 다음과 같습니다."
      ]
    },
    {
      "cell_type": "code",
      "execution_count": 20,
      "metadata": {
        "id": "Gl7KqYljPjbO",
        "colab": {
          "base_uri": "https://localhost:8080/",
          "height": 694
        },
        "outputId": "d2805a8f-bd4d-47c0-8697-0fa417e04460"
      },
      "outputs": [
        {
          "output_type": "display_data",
          "data": {
            "text/plain": [
              "<PIL.Image.Image image mode=RGB size=1676x802 at 0x79D9E97C6B00>"
            ],
            "image/png": "[encoded data removed]"
          },
          "metadata": {}
        }
      ],
      "source": [
        "import cv2\n",
        "from google.colab.patches import cv2_imshow\n",
        "\n",
        "images = '/content/drive/MyDrive/D2D/1-hello-pytorch-hello-cnn/D2D/notebook_images/AlexNet_Architecture.png'\n",
        "image = cv2.imread(images)\n",
        "cv2_imshow(image)"
      ]
    },
    {
      "cell_type": "markdown",
      "metadata": {
        "id": "kESoCsqDQuLX"
      },
      "source": [
        "## 구현 세부사항\n",
        "이 그림을 바탕으로 AlexNet을 재구현 해 봅시다. 그러기 위해서 몇 가지 알고 넘어가야할 부분이 있습니다.\n",
        "\n",
        "AlexNet의 Input Data는 원래 3x227x227입니다. 하지만 우리는 지금 3x32x32인 CIFAR-10 Dataset에 대해서 실험을 하고 있습니다. 그렇기 때문에 Input Data의 dimension을 맞춰주는 작업이 필요합니다.\n",
        "\n",
        "PyTorch에는 이를 위한 Upsample 클래스가 존재합니다.\n",
        "\n",
        "```\n",
        "nn.Upsample(size=(227,227))\n",
        "```\n",
        "\n",
        "> **주의** : 이는 실험의 편의성을 위해 사용한 방식입니다. 실제로 논문을 재구현 할 때에는 실험이 진행된 Data와 동일한 dimension의 Data를 사용하여야 합니다.\n",
        "\n",
        "+ 추가로, Deep Learning 분야에서 많이 화제가 되었던 이야기 중 하나가 Input dimension이 맞지 않는다는 것이었습니다. 논문에서 첫번째 Convolution Layer에서 filter size가 11이고, stride가 4라는 것만 언급 되어 있습니다. 그 때 output volume을 계산해 보면 정수가 아닙니다. 많은 주장이 있었지만 저자가 Padding 3를 빼먹었다고 생각해, 본 구현에서도 Padding 3을 줬습니다.\n",
        "\n",
        "\n",
        " **추가 7.13 수정** : 이미지 원래 사이즈가 3x227x227이고, Padding은 없는게 맞는 것 같습니다. ((227 - 11) / 4 + 1 = 55) **알려주셔서 감사합니다!**\n",
        "\n",
        "또한, AlexNet은 GPU 두 개에서 모델을 돌리기 위해 구성되었습니다. 2012년 AlexNet이 구현될 때와 달리 지금은 GPU 성능이 많이 발전하여, 하나의 GPU에서도 충분히 이를 실행시킬 수 있습니다. 하나의 GPU에서 실행되도록 모델을 수정해서 실험해 봅시다.\n",
        "\n",
        "그림에서 볼 수 있듯이 윗쪽과 아래쪽 CNN Layer가 있습니다. 이 Layer들을 하나로 합한다면, feature 수가 늘어난다고 생각하면 됩니다. 예를 들어, 첫 번째 CNN Layer는 48개의 filter가 두 개 있는데, 이를 96개의 filter가 있다고 생각하면 됩니다.\n",
        "\n",
        "Fully-Connected Layer 또한 2048 + 2048 = 4096개의 feature를 가진다고 생각하면 됩니다.\n",
        "\n",
        "**재구현은 Module API를 사용해도 좋고, Sequential API를 사용해도 좋습니다. 건투를 빕니다!**\n",
        "\n",
        "\n"
      ]
    },
    {
      "cell_type": "markdown",
      "metadata": {
        "id": "2l01XXCQQP2G"
      },
      "source": [
        "## AlexNet Architecture Summary\n",
        "다음은 논문에 나온 AlexNet의 구조를 요약한 것입니다. 구현에 참고해 주세요.\n",
        "### features\n",
        "|Layer|# of filters|Filter Size|Stride|Padding|Size of feature map|Activation|\n",
        "|:-----|:-----------|:----|:-----------|:------|:----------|:--|\n",
        "|Input Image|-|-|-|-|3x32x32|-|\n",
        "|Upsample|-|-|-|-|3x227x227|-|\n",
        "|Convolution 1|96|11x11|4|-|55x55x96|ReLU|\n",
        "|Max Pooling 1|-|3x3|2|-|27x27x96|-|\n",
        "|Convolution 2|256|5x5|1|2|27x27x256|ReLU|\n",
        "|Max Pooling 2|-|3x3|2|-|13x13x256|-|\n",
        "|Convolution 3|384|3x3|1|1|13x13x384|ReLU|\n",
        "|Convolution 4|384|3x3|1|1|13x13x384|ReLU|\n",
        "|Convolution 5|256|3x3|1|1|13x13x256|ReLU|\n",
        "|Max Pooling 3|-|3x3|2|-|6x6x256|-|\n",
        "\n",
        "### classifier\n",
        "|Layer|in_feature|out_feature|dropout rate|Activation|\n",
        "|:----|:---------|:----------|:-----------|:---------|\n",
        "|Flatten|-|-|-|-|\n",
        "|Dropout 1|-|-|0.5|-|\n",
        "|Fully-Connected 1|9216|4096|-|ReLU|\n",
        "|Dropout 2|-|-|0.5|-|\n",
        "|Fully-Connected 2|4096|4096|-|ReLU|\n",
        "|Fully-Connected 3|4096|10|-|-|\n"
      ]
    },
    {
      "cell_type": "code",
      "execution_count": 30,
      "metadata": {
        "id": "sequential_accuracy",
        "colab": {
          "base_uri": "https://localhost:8080/"
        },
        "outputId": "68b2e37c-1a15-40df-fb4f-a16e82877073"
      },
      "outputs": [
        {
          "output_type": "stream",
          "name": "stdout",
          "text": [
            "Iteration 0, loss = 6.9118\n",
            "Checking accuracy on validation set\n",
            "Got 129 / 1000 correct (12.90)\n",
            "\n",
            "Iteration 100, loss = 2.0481\n",
            "Checking accuracy on validation set\n",
            "Got 267 / 1000 correct (26.70)\n",
            "\n",
            "Iteration 200, loss = 1.8495\n",
            "Checking accuracy on validation set\n",
            "Got 377 / 1000 correct (37.70)\n",
            "\n",
            "Iteration 300, loss = 1.5339\n",
            "Checking accuracy on validation set\n",
            "Got 421 / 1000 correct (42.10)\n",
            "\n",
            "Iteration 400, loss = 1.3475\n",
            "Checking accuracy on validation set\n",
            "Got 450 / 1000 correct (45.00)\n",
            "\n",
            "Iteration 500, loss = 1.5931\n",
            "Checking accuracy on validation set\n",
            "Got 480 / 1000 correct (48.00)\n",
            "\n",
            "Iteration 600, loss = 1.3665\n",
            "Checking accuracy on validation set\n",
            "Got 530 / 1000 correct (53.00)\n",
            "\n",
            "Iteration 700, loss = 1.2133\n",
            "Checking accuracy on validation set\n",
            "Got 546 / 1000 correct (54.60)\n",
            "\n",
            "Iteration 0, loss = 1.2880\n",
            "Checking accuracy on validation set\n",
            "Got 549 / 1000 correct (54.90)\n",
            "\n",
            "Iteration 100, loss = 1.0121\n",
            "Checking accuracy on validation set\n",
            "Got 591 / 1000 correct (59.10)\n",
            "\n",
            "Iteration 200, loss = 1.0245\n",
            "Checking accuracy on validation set\n",
            "Got 633 / 1000 correct (63.30)\n",
            "\n",
            "Iteration 300, loss = 1.1702\n",
            "Checking accuracy on validation set\n",
            "Got 660 / 1000 correct (66.00)\n",
            "\n",
            "Iteration 400, loss = 1.0926\n",
            "Checking accuracy on validation set\n",
            "Got 662 / 1000 correct (66.20)\n",
            "\n",
            "Iteration 500, loss = 1.0336\n",
            "Checking accuracy on validation set\n",
            "Got 668 / 1000 correct (66.80)\n",
            "\n",
            "Iteration 600, loss = 0.6911\n",
            "Checking accuracy on validation set\n",
            "Got 663 / 1000 correct (66.30)\n",
            "\n",
            "Iteration 700, loss = 1.0905\n",
            "Checking accuracy on validation set\n",
            "Got 694 / 1000 correct (69.40)\n",
            "\n",
            "Iteration 0, loss = 0.8999\n",
            "Checking accuracy on validation set\n",
            "Got 686 / 1000 correct (68.60)\n",
            "\n",
            "Iteration 100, loss = 0.8979\n",
            "Checking accuracy on validation set\n",
            "Got 725 / 1000 correct (72.50)\n",
            "\n",
            "Iteration 200, loss = 0.6669\n",
            "Checking accuracy on validation set\n",
            "Got 724 / 1000 correct (72.40)\n",
            "\n",
            "Iteration 300, loss = 0.5890\n",
            "Checking accuracy on validation set\n",
            "Got 746 / 1000 correct (74.60)\n",
            "\n",
            "Iteration 400, loss = 0.8451\n",
            "Checking accuracy on validation set\n",
            "Got 726 / 1000 correct (72.60)\n",
            "\n",
            "Iteration 500, loss = 0.7236\n",
            "Checking accuracy on validation set\n",
            "Got 735 / 1000 correct (73.50)\n",
            "\n",
            "Iteration 600, loss = 0.8322\n",
            "Checking accuracy on validation set\n",
            "Got 758 / 1000 correct (75.80)\n",
            "\n",
            "Iteration 700, loss = 0.6042\n",
            "Checking accuracy on validation set\n",
            "Got 752 / 1000 correct (75.20)\n",
            "\n",
            "Iteration 0, loss = 0.7990\n",
            "Checking accuracy on validation set\n",
            "Got 721 / 1000 correct (72.10)\n",
            "\n",
            "Iteration 100, loss = 0.8560\n",
            "Checking accuracy on validation set\n",
            "Got 776 / 1000 correct (77.60)\n",
            "\n",
            "Iteration 200, loss = 0.6135\n",
            "Checking accuracy on validation set\n",
            "Got 751 / 1000 correct (75.10)\n",
            "\n",
            "Iteration 300, loss = 0.7527\n",
            "Checking accuracy on validation set\n",
            "Got 767 / 1000 correct (76.70)\n",
            "\n",
            "Iteration 400, loss = 0.6116\n",
            "Checking accuracy on validation set\n",
            "Got 783 / 1000 correct (78.30)\n",
            "\n",
            "Iteration 500, loss = 0.7921\n",
            "Checking accuracy on validation set\n",
            "Got 777 / 1000 correct (77.70)\n",
            "\n",
            "Iteration 600, loss = 0.6363\n",
            "Checking accuracy on validation set\n",
            "Got 785 / 1000 correct (78.50)\n",
            "\n",
            "Iteration 700, loss = 0.8479\n",
            "Checking accuracy on validation set\n",
            "Got 777 / 1000 correct (77.70)\n",
            "\n",
            "Iteration 0, loss = 0.6879\n",
            "Checking accuracy on validation set\n",
            "Got 786 / 1000 correct (78.60)\n",
            "\n",
            "Iteration 100, loss = 0.8480\n",
            "Checking accuracy on validation set\n",
            "Got 800 / 1000 correct (80.00)\n",
            "\n",
            "Iteration 200, loss = 0.6570\n",
            "Checking accuracy on validation set\n",
            "Got 788 / 1000 correct (78.80)\n",
            "\n",
            "Iteration 300, loss = 0.7329\n",
            "Checking accuracy on validation set\n",
            "Got 812 / 1000 correct (81.20)\n",
            "\n",
            "Iteration 400, loss = 0.6345\n",
            "Checking accuracy on validation set\n",
            "Got 811 / 1000 correct (81.10)\n",
            "\n",
            "Iteration 500, loss = 0.4697\n",
            "Checking accuracy on validation set\n",
            "Got 807 / 1000 correct (80.70)\n",
            "\n",
            "Iteration 600, loss = 0.4384\n",
            "Checking accuracy on validation set\n",
            "Got 816 / 1000 correct (81.60)\n",
            "\n",
            "Iteration 700, loss = 0.5585\n",
            "Checking accuracy on validation set\n",
            "Got 827 / 1000 correct (82.70)\n",
            "\n",
            "Iteration 0, loss = 0.4438\n",
            "Checking accuracy on validation set\n",
            "Got 798 / 1000 correct (79.80)\n",
            "\n",
            "Iteration 100, loss = 0.2918\n",
            "Checking accuracy on validation set\n",
            "Got 811 / 1000 correct (81.10)\n",
            "\n",
            "Iteration 200, loss = 0.6212\n",
            "Checking accuracy on validation set\n",
            "Got 796 / 1000 correct (79.60)\n",
            "\n",
            "Iteration 300, loss = 0.3669\n",
            "Checking accuracy on validation set\n",
            "Got 808 / 1000 correct (80.80)\n",
            "\n",
            "Iteration 400, loss = 0.5254\n",
            "Checking accuracy on validation set\n",
            "Got 805 / 1000 correct (80.50)\n",
            "\n",
            "Iteration 500, loss = 0.6107\n",
            "Checking accuracy on validation set\n",
            "Got 812 / 1000 correct (81.20)\n",
            "\n",
            "Iteration 600, loss = 0.4644\n",
            "Checking accuracy on validation set\n",
            "Got 809 / 1000 correct (80.90)\n",
            "\n",
            "Iteration 700, loss = 0.6034\n",
            "Checking accuracy on validation set\n",
            "Got 821 / 1000 correct (82.10)\n",
            "\n",
            "Iteration 0, loss = 0.3099\n",
            "Checking accuracy on validation set\n",
            "Got 832 / 1000 correct (83.20)\n",
            "\n",
            "Iteration 100, loss = 0.5070\n",
            "Checking accuracy on validation set\n",
            "Got 816 / 1000 correct (81.60)\n",
            "\n",
            "Iteration 200, loss = 0.4046\n",
            "Checking accuracy on validation set\n",
            "Got 805 / 1000 correct (80.50)\n",
            "\n",
            "Iteration 300, loss = 0.5499\n",
            "Checking accuracy on validation set\n",
            "Got 832 / 1000 correct (83.20)\n",
            "\n",
            "Iteration 400, loss = 0.4955\n",
            "Checking accuracy on validation set\n",
            "Got 829 / 1000 correct (82.90)\n",
            "\n",
            "Iteration 500, loss = 0.4307\n",
            "Checking accuracy on validation set\n",
            "Got 823 / 1000 correct (82.30)\n",
            "\n",
            "Iteration 600, loss = 0.4656\n",
            "Checking accuracy on validation set\n",
            "Got 839 / 1000 correct (83.90)\n",
            "\n",
            "Iteration 700, loss = 0.4233\n",
            "Checking accuracy on validation set\n",
            "Got 813 / 1000 correct (81.30)\n",
            "\n",
            "Iteration 0, loss = 0.2821\n",
            "Checking accuracy on validation set\n",
            "Got 842 / 1000 correct (84.20)\n",
            "\n",
            "Iteration 100, loss = 0.4460\n",
            "Checking accuracy on validation set\n",
            "Got 828 / 1000 correct (82.80)\n",
            "\n",
            "Iteration 200, loss = 0.3354\n",
            "Checking accuracy on validation set\n",
            "Got 837 / 1000 correct (83.70)\n",
            "\n",
            "Iteration 300, loss = 0.2292\n",
            "Checking accuracy on validation set\n",
            "Got 830 / 1000 correct (83.00)\n",
            "\n",
            "Iteration 400, loss = 0.3514\n",
            "Checking accuracy on validation set\n",
            "Got 822 / 1000 correct (82.20)\n",
            "\n",
            "Iteration 500, loss = 0.4692\n",
            "Checking accuracy on validation set\n",
            "Got 835 / 1000 correct (83.50)\n",
            "\n",
            "Iteration 600, loss = 0.1838\n",
            "Checking accuracy on validation set\n",
            "Got 823 / 1000 correct (82.30)\n",
            "\n",
            "Iteration 700, loss = 0.3078\n",
            "Checking accuracy on validation set\n",
            "Got 834 / 1000 correct (83.40)\n",
            "\n",
            "Iteration 0, loss = 0.3559\n",
            "Checking accuracy on validation set\n",
            "Got 838 / 1000 correct (83.80)\n",
            "\n",
            "Iteration 100, loss = 0.1202\n",
            "Checking accuracy on validation set\n",
            "Got 842 / 1000 correct (84.20)\n",
            "\n",
            "Iteration 200, loss = 0.1681\n",
            "Checking accuracy on validation set\n",
            "Got 841 / 1000 correct (84.10)\n",
            "\n",
            "Iteration 300, loss = 0.2838\n",
            "Checking accuracy on validation set\n",
            "Got 845 / 1000 correct (84.50)\n",
            "\n",
            "Iteration 400, loss = 0.2555\n",
            "Checking accuracy on validation set\n",
            "Got 829 / 1000 correct (82.90)\n",
            "\n",
            "Iteration 500, loss = 0.1484\n",
            "Checking accuracy on validation set\n",
            "Got 826 / 1000 correct (82.60)\n",
            "\n",
            "Iteration 600, loss = 0.2199\n",
            "Checking accuracy on validation set\n",
            "Got 823 / 1000 correct (82.30)\n",
            "\n",
            "Iteration 700, loss = 0.1785\n",
            "Checking accuracy on validation set\n",
            "Got 856 / 1000 correct (85.60)\n",
            "\n",
            "Iteration 0, loss = 0.1779\n",
            "Checking accuracy on validation set\n",
            "Got 843 / 1000 correct (84.30)\n",
            "\n",
            "Iteration 100, loss = 0.1964\n",
            "Checking accuracy on validation set\n",
            "Got 839 / 1000 correct (83.90)\n",
            "\n",
            "Iteration 200, loss = 0.0929\n",
            "Checking accuracy on validation set\n",
            "Got 833 / 1000 correct (83.30)\n",
            "\n",
            "Iteration 300, loss = 0.1482\n",
            "Checking accuracy on validation set\n",
            "Got 836 / 1000 correct (83.60)\n",
            "\n",
            "Iteration 400, loss = 0.2362\n",
            "Checking accuracy on validation set\n",
            "Got 836 / 1000 correct (83.60)\n",
            "\n",
            "Iteration 500, loss = 0.1658\n",
            "Checking accuracy on validation set\n",
            "Got 851 / 1000 correct (85.10)\n",
            "\n",
            "Iteration 600, loss = 0.2918\n",
            "Checking accuracy on validation set\n",
            "Got 836 / 1000 correct (83.60)\n",
            "\n",
            "Iteration 700, loss = 0.2605\n",
            "Checking accuracy on validation set\n",
            "Got 842 / 1000 correct (84.20)\n",
            "\n"
          ]
        }
      ],
      "source": [
        "learning_rate = 1e-4\n",
        "\n",
        "model = None\n",
        "optimizer = None\n",
        "\n",
        "################################################################################\n",
        "# TODO: Reimplement AlexNet                                                    #\n",
        "################################################################################\n",
        "# *****START OF YOUR CODE (DO NOT DELETE/MODIFY THIS LINE)*****\n",
        "\n",
        "# (1) Upsampling - Data Loading 부분 (코랩노트북 앞 부분) 에서 RESIZE 적용 완료\n",
        "\n",
        "# (2) Model\n",
        "model = nn.Sequential(\n",
        "\n",
        "    # features\n",
        "    # input size = (size of feature map) = (96, 55, 55)\n",
        "    nn.Conv2d(3, 96, kernel_size=(11,11), stride=4, padding=0),\n",
        "    nn.ReLU(),\n",
        "    nn.MaxPool2d(kernel_size=3, stride=2),\n",
        "\n",
        "    nn.Conv2d(96, 256, kernel_size=(5,5), stride=1, padding=2),\n",
        "    nn.ReLU(),\n",
        "    nn.MaxPool2d(kernel_size=3, stride=2),\n",
        "\n",
        "    nn.Conv2d(256, 384, kernel_size=(3,3), stride=1, padding=1),\n",
        "    nn.ReLU(),\n",
        "\n",
        "    nn.Conv2d(384, 384, kernel_size=(3,3), stride=1, padding=1),\n",
        "    nn.ReLU(),\n",
        "\n",
        "    nn.Conv2d(384, 256, kernel_size=(3,3), stride=1, padding=1),\n",
        "    nn.ReLU(),\n",
        "    nn.MaxPool2d(kernel_size=3, stride=2),\n",
        "\n",
        "    # classifier\n",
        "    Flatten(),\n",
        "    nn.Dropout(p=0.5),\n",
        "    nn.Linear(9216, 4096),\n",
        "    nn.ReLU(),\n",
        "\n",
        "    nn.Dropout(p=0.5),\n",
        "    nn.Linear(4096, 4096),\n",
        "    nn.ReLU(),\n",
        "\n",
        "    nn.Linear(4096, 1000)\n",
        "    # Instruction 의 Table 상에서는 out_feature 값이 10이지만, AlexNet 그림 상에서는 1000이므로 일단 1000 입력\n",
        ")\n",
        "\n",
        "# (3) Optimizer\n",
        "optimizer = optim.Adam(model.parameters(), lr=learning_rate)\n",
        "\n",
        "\n",
        "# *****END OF YOUR CODE (DO NOT DELETE/MODIFY THIS LINE)*****\n",
        "################################################################################\n",
        "#                                 END OF YOUR CODE                             #\n",
        "################################################################################\n",
        "\n",
        "train_part34(model, optimizer, epochs=10)"
      ]
    },
    {
      "cell_type": "markdown",
      "metadata": {
        "id": "yTQNIdymfthW"
      },
      "source": [
        "## Describe what you did\n",
        "\n",
        "재구현에 성공했나요? 실패했다면 어떤 점이 어려웠나요? 다른 모델과 비교했을 때 더 좋은 성능이 나왔나요? 혹은 ILSVRC'12와 비슷한 성능인가요? 만약 기대하던 성능이 안 나왔다면 어떤 문제가 있었을까요? 자유롭게 생각을 적어주세요."
      ]
    },
    {
      "cell_type": "markdown",
      "metadata": {
        "id": "V4ueerblf7FI"
      },
      "source": [
        "**Answer:**\n",
        "\n",
        "재구현에 성공하였고, 앞선 모델들에 비해 훨씬 더 좋은 성능(Accuracy, 50%에서 80%로 증가)이 나왔다.\n"
      ]
    },
    {
      "cell_type": "markdown",
      "metadata": {
        "id": "Iq-i0xoUpR2E"
      },
      "source": [
        "# Part V. CIFAR-10 open-ended challenge\n",
        "\n",
        "이 section에서는 CIFAR-10에서 원하는 ConvNet 아키텍처를 실험해 볼 수 있습니다.\n",
        "\n",
        "이제 여러분이 할 일은 아키텍처, 하이퍼파라미터, loss 함수, Optimizer를 실험하여 10개 epoch 이내에 CIFAR-10 **Validation** 세트에서 **70% 이상** 정확도를 달성하는 모델을 훈련하는 것입니다. 위에서 확인_정확도 및 훈련 함수를 사용할 수 있습니다. `nn.Module` 또는 `nn.Sequential` API를 사용할 수 있습니다.\n",
        "\n",
        "이 노트북의 마지막에 여러분이 수행한 작업을 설명하세요.\n",
        "\n",
        "다음은 각 구성 요소에 대한 공식 API 문서입니다. 한 가지 참고 사항: \"spatial batch norm\" 클래스에서 호출하는 것을 PyTorch에서는 \"BatchNorm2D\"라고 부릅니다.\n",
        "\n",
        "* Layers in torch.nn package: http://pytorch.org/docs/stable/nn.html\n",
        "* Activations: http://pytorch.org/docs/stable/nn.html#non-linear-activations\n",
        "* Loss functions: http://pytorch.org/docs/stable/nn.html#loss-functions\n",
        "* Optimizers: http://pytorch.org/docs/stable/optim.html\n",
        "\n",
        "\n",
        "### 시도해 볼만한 일:\n",
        "- **Filter size**: 위에서는 5x5를 사용했는데, 더 작은 필터가 더 효율적일까요?\n",
        "- **Filters 수**: 위에서는 32개의 필터를 사용했습니다. 필터 수가 많거나 적을수록 더 효율적일까요?\n",
        "- **Pooling vs Strided Convolution**: max pooling을 사용하나요, 아니면 Strided Convolution만 사용하나요?\n",
        "- **Batch normalization**: Convolutional Layer 뒤에 spatial batch normalization을, affine 레이어 뒤에 vanilla batch normalization을 추가해 보세요. 네트워크가 더 빠르게 훈련되나요?\n",
        "- **네트워크 아키텍처**: 위의 네트워크에는 두 개의 학습 가능한 파라미터 레이어가 있습니다. 심층 네트워크를 사용하면 더 잘할 수 있나요? 시도해 볼 만한 좋은 아키텍처는 다음과 같습니다:\n",
        "    - [conv-relu-pool]xN -> [affine]xM -> [softmax 또는 SVM]\n",
        "    - [conv-relu-conv-relu-pool]xN -> [affine]xM -> [softmax 또는 SVM]\n",
        "    - [batchnorm-relu-conv]xN -> [affine]xM -> [softmax 또는 SVM]\n",
        "- **Global Average Pooling**: 평평하게 한 다음 여러 개의 Affine 레이어를 갖는 대신 이미지가 작아질 때까지 Convolution을 수행한 다음(7x7 정도) Average Pooling 연산을 수행하여 1x1 이미지 사진(1, 1 , Filter#)을 얻은 다음 (Filter#) 벡터로 재형성합니다. 이 방식은 [Google's Inception Network](https://arxiv.org/abs/1512.00567)에서 사용됩니다(아키텍처는 표 1 참조).\n",
        "- **Regularization**: l2 가중치 regulariztion를 추가하거나 Dropout을 사용할 수 있습니다.\n",
        "\n",
        "### Tips for training\n",
        "시도하는 각 네트워크 아키텍처에 대해 학습 속도와 기타 하이퍼파라미터를 조정해야 합니다. 이 작업을 수행할 때 명심해야 할 몇 가지 중요한 사항이 있습니다:\n",
        "\n",
        "- 매개변수가 잘 작동하는 경우 수백 번의 반복을 통해 개선 효과를 볼 수 있어야 합니다.\n",
        "- 하이퍼파라미터 튜닝을 위한 거칠고 세밀한 접근 방식을 기억하세요. 몇 번의 학습 반복만으로 광범위한 하이퍼파라미터를 테스트하여 제대로 작동하는 파라미터 조합을 찾는 것부터 시작하세요.\n",
        "- 효과가 있는 것으로 보이는 몇 가지 파라미터 세트를 찾으면 해당 파라미터를 중심으로 더 세밀하게 검색하세요. 더 많은 epoch에 대해 훈련해야 할 수도 있습니다.\n",
        "- 하이퍼파라미터 검색에는 유효성 검사 집합을 사용하고, 유효성 검사 집합에서 선택한 최상의 파라미터로 아키텍처를 평가하기 위해 테스트 집합을 저장해야 합니다.\n",
        "\n",
        "### Going above and beyond\n",
        "모험심이 강하다면 성능을 향상시키기 위해 구현할 수 있는 다른 기능도 많이 있습니다. 이러한 기능을 반드시 구현해야 하는 것은 아니지만, 시간이 된다면 그 재미를 놓치지 마세요!\n",
        "\n",
        "- 대체 optimizers: Adam, Adagrad, RMSprop 등을 사용해 볼 수 있습니다.\n",
        "- Leaky ReLU, parametric ReLU, ELU 또는 MaxOut과 같은 대체 Activation 함수.\n",
        "- Model ensembles\n",
        "- Data augmentation\n",
        "- 새로운 아키텍처\n",
        "  - [ResNets](https://arxiv.org/abs/1512.03385) 이전 레이어의 입력이 출력에 추가됩니다.\n",
        "  - [DenseNets](https://arxiv.org/abs/1608.06993) 이전 레이어에 대한 입력이 서로 연결되는 곳입니다.\n",
        "  - [이 블로그에서 자세한 개요를 확인할 수 있습니다.](https://chatbotslife.com/resnets-highwaynets-and-densenets-oh-my-9bb15918ee32)\n",
        "\n",
        "### Have fun and happy training!"
      ]
    },
    {
      "cell_type": "code",
      "execution_count": 21,
      "metadata": {
        "id": "uWsuRLTjfoRa"
      },
      "outputs": [],
      "source": [
        "def train_part5(model, optimizer, epochs=1):\n",
        "    \"\"\"\n",
        "    Train a model on CIFAR-10 using the PyTorch Module API.\n",
        "\n",
        "    Inputs:\n",
        "    - model: A PyTorch Module giving the model to train.\n",
        "    - optimizer: An Optimizer object we will use to train the model\n",
        "    - epochs: (Optional) A Python integer giving the number of epochs to train for\n",
        "\n",
        "    Returns: Nothing, but prints model accuracies during training.\n",
        "    \"\"\"\n",
        "    avg_losses = []\n",
        "    model = model.to(device=device)  # move the model parameters to CPU/GPU\n",
        "    for e in range(epochs):\n",
        "        avg_loss = 0.0\n",
        "        for t, (x, y) in enumerate(loader_train):\n",
        "            model.train()  # put model to training mode\n",
        "            x = x.to(device=device, dtype=dtype)  # move to device, e.g. GPU\n",
        "            y = y.to(device=device, dtype=torch.long)\n",
        "\n",
        "            scores = model(x)\n",
        "            loss = F.cross_entropy(scores, y)\n",
        "\n",
        "            # Zero out all of the gradients for the variables which the optimizer\n",
        "            # will update.\n",
        "            optimizer.zero_grad()\n",
        "\n",
        "            # This is the backwards pass: compute the gradient of the loss with\n",
        "            # respect to each  parameter of the model.\n",
        "            loss.backward()\n",
        "\n",
        "            # Actually update the parameters of the model using the gradients\n",
        "            # computed by the backwards pass.\n",
        "            optimizer.step()\n",
        "\n",
        "            if t % print_every == 0:\n",
        "                print('Iteration %d, loss = %.4f' % (t, loss.item()))\n",
        "                check_accuracy_part34(loader_val, model)\n",
        "                print()\n",
        "\n",
        "            avg_loss += loss.item()\n",
        "        avg_losses.append(avg_loss / len(loader_train))\n",
        "    return avg_losses"
      ]
    },
    {
      "cell_type": "code",
      "execution_count": 26,
      "metadata": {
        "id": "open_ended_accuracy",
        "colab": {
          "base_uri": "https://localhost:8080/",
          "height": 1000
        },
        "outputId": "98f3def9-f0f6-46fc-fb3f-186917c81a99"
      },
      "outputs": [
        {
          "output_type": "stream",
          "name": "stdout",
          "text": [
            "Iteration 0, loss = 7.1601\n",
            "Checking accuracy on validation set\n",
            "Got 0 / 1000 correct (0.00)\n",
            "\n",
            "Iteration 100, loss = 1.8490\n",
            "Checking accuracy on validation set\n",
            "Got 432 / 1000 correct (43.20)\n",
            "\n",
            "Iteration 200, loss = 1.8402\n",
            "Checking accuracy on validation set\n",
            "Got 525 / 1000 correct (52.50)\n",
            "\n",
            "Iteration 300, loss = 2.1141\n",
            "Checking accuracy on validation set\n",
            "Got 562 / 1000 correct (56.20)\n",
            "\n",
            "Iteration 400, loss = 1.1735\n",
            "Checking accuracy on validation set\n",
            "Got 602 / 1000 correct (60.20)\n",
            "\n",
            "Iteration 500, loss = 1.6194\n",
            "Checking accuracy on validation set\n",
            "Got 636 / 1000 correct (63.60)\n",
            "\n",
            "Iteration 600, loss = 1.0324\n",
            "Checking accuracy on validation set\n",
            "Got 647 / 1000 correct (64.70)\n",
            "\n",
            "Iteration 700, loss = 1.7204\n",
            "Checking accuracy on validation set\n",
            "Got 675 / 1000 correct (67.50)\n",
            "\n",
            "Iteration 0, loss = 0.8265\n",
            "Checking accuracy on validation set\n",
            "Got 691 / 1000 correct (69.10)\n",
            "\n",
            "Iteration 100, loss = 0.9025\n",
            "Checking accuracy on validation set\n",
            "Got 687 / 1000 correct (68.70)\n",
            "\n",
            "Iteration 200, loss = 1.1474\n",
            "Checking accuracy on validation set\n",
            "Got 682 / 1000 correct (68.20)\n",
            "\n",
            "Iteration 300, loss = 0.6985\n",
            "Checking accuracy on validation set\n",
            "Got 692 / 1000 correct (69.20)\n",
            "\n",
            "Iteration 400, loss = 0.6412\n",
            "Checking accuracy on validation set\n",
            "Got 751 / 1000 correct (75.10)\n",
            "\n",
            "Iteration 500, loss = 0.6738\n",
            "Checking accuracy on validation set\n",
            "Got 729 / 1000 correct (72.90)\n",
            "\n",
            "Iteration 600, loss = 0.6107\n",
            "Checking accuracy on validation set\n",
            "Got 719 / 1000 correct (71.90)\n",
            "\n",
            "Iteration 700, loss = 0.9065\n",
            "Checking accuracy on validation set\n",
            "Got 752 / 1000 correct (75.20)\n",
            "\n"
          ]
        },
        {
          "output_type": "display_data",
          "data": {
            "text/plain": [
              "<Figure size 640x480 with 1 Axes>"
            ],
            "image/png": "[encoded data removed]"
          },
          "metadata": {}
        }
      ],
      "source": [
        "################################################################################\n",
        "# TODO:                                                                        #\n",
        "# Experiment with any architectures, optimizers, and hyperparameters.          #\n",
        "# Achieve AT LEAST 70% accuracy on the *validation set* within 10 epochs.      #\n",
        "#                                                                              #\n",
        "# Note that you can use the check_accuracy function to evaluate on either      #\n",
        "# the test set or the validation set, by passing either loader_test or         #\n",
        "# loader_val as the second argument to check_accuracy. You should not touch    #\n",
        "# the test set until you have finished your architecture and  hyperparameter   #\n",
        "# tuning, and only run the test set once at the end to report a final value.   #\n",
        "################################################################################\n",
        "model = None\n",
        "optimizer = None\n",
        "experiment_name = \"model1_norm_lr0.0001\"  # e.g., \"model1_sgd_lr0.1\", \"model2_adam_lr0.001\"\n",
        "# Change the above experiment_name to store the avg_losses while perserving\n",
        "# the previous avg_losses. Using the same value for experiment_name results in\n",
        "# overwriting the previous one.\n",
        "\n",
        "# *****START OF YOUR CODE (DO NOT DELETE/MODIFY THIS LINE)*****\n",
        "\n",
        "# Model 1\n",
        "learning_rate = 0.0001\n",
        "model = nn.Sequential(\n",
        "    # features\n",
        "    # input size = (size of feature map) = (96, 55, 55)\n",
        "    nn.Conv2d(3, 96, kernel_size=(11,11), stride=4, padding=0),\n",
        "    nn.ReLU(),\n",
        "    nn.MaxPool2d(kernel_size=3, stride=2),\n",
        "\n",
        "    nn.Conv2d(96, 256, kernel_size=(5,5), stride=1, padding=2),\n",
        "    nn.ReLU(),\n",
        "    nn.MaxPool2d(kernel_size=3, stride=2),\n",
        "    nn.BatchNorm2d(256),\n",
        "\n",
        "    nn.Conv2d(256, 384, kernel_size=(3,3), stride=1, padding=1),\n",
        "    nn.ReLU(),\n",
        "    nn.BatchNorm2d(384),\n",
        "\n",
        "    nn.Conv2d(384, 384, kernel_size=(3,3), stride=1, padding=1),\n",
        "    nn.ReLU(),\n",
        "\n",
        "    nn.Conv2d(384, 256, kernel_size=(3,3), stride=1, padding=1),\n",
        "    nn.ReLU(),\n",
        "    nn.MaxPool2d(kernel_size=3, stride=2),\n",
        "    nn.BatchNorm2d(256),\n",
        "\n",
        "    # classifier\n",
        "    Flatten(),\n",
        "    nn.Dropout(p=0.5),\n",
        "    nn.Linear(9216, 4096),\n",
        "    nn.ReLU(),\n",
        "    nn.BatchNorm1d(4096),\n",
        "\n",
        "    nn.Dropout(p=0.5),\n",
        "    nn.Linear(4096, 4096),\n",
        "    nn.ReLU(),\n",
        "    nn.BatchNorm1d(4096),\n",
        "\n",
        "    nn.Linear(4096, 1000)\n",
        ")\n",
        "\n",
        "optimizer = optim.Adam(model.parameters(), lr=learning_rate)\n",
        "best_model = model\n",
        "\n",
        "# *****END OF YOUR CODE (DO NOT DELETE/MODIFY THIS LINE)*****\n",
        "################################################################################\n",
        "#                                 END OF YOUR CODE                             #\n",
        "################################################################################\n",
        "\n",
        "# You should get at least 70% accuracy\n",
        "avg_losses = train_part5(model, optimizer, epochs=2)\n",
        "avg_losses = np.array(avg_losses)\n",
        "np.save(\"%s.npy\" % experiment_name, avg_losses)\n",
        "\n",
        "plt.plot(avg_losses)\n",
        "plt.title(\"Training Loss (%s)\" % experiment_name)\n",
        "plt.show()"
      ]
    },
    {
      "cell_type": "code",
      "execution_count": 27,
      "metadata": {
        "colab": {
          "base_uri": "https://localhost:8080/",
          "height": 1000
        },
        "id": "b2Yvfrjy6UZc",
        "outputId": "936997b6-d50e-4cda-80bf-aa6039319ca6"
      },
      "outputs": [
        {
          "output_type": "stream",
          "name": "stderr",
          "text": [
            "/usr/local/lib/python3.10/dist-packages/torch/nn/modules/container.py:217: UserWarning: Implicit dimension choice for softmax has been deprecated. Change the call to include dim=X as an argument.\n",
            "  input = module(input)\n"
          ]
        },
        {
          "output_type": "stream",
          "name": "stdout",
          "text": [
            "Iteration 0, loss = 6.9071\n",
            "Checking accuracy on validation set\n",
            "Got 0 / 1000 correct (0.00)\n",
            "\n",
            "Iteration 100, loss = 6.8551\n",
            "Checking accuracy on validation set\n",
            "Got 78 / 1000 correct (7.80)\n",
            "\n",
            "Iteration 200, loss = 6.8165\n",
            "Checking accuracy on validation set\n",
            "Got 78 / 1000 correct (7.80)\n",
            "\n",
            "Iteration 300, loss = 6.7795\n",
            "Checking accuracy on validation set\n",
            "Got 78 / 1000 correct (7.80)\n",
            "\n",
            "Iteration 400, loss = 6.7391\n",
            "Checking accuracy on validation set\n",
            "Got 78 / 1000 correct (7.80)\n",
            "\n",
            "Iteration 500, loss = 6.7011\n",
            "Checking accuracy on validation set\n",
            "Got 78 / 1000 correct (7.80)\n",
            "\n",
            "Iteration 600, loss = 6.6647\n",
            "Checking accuracy on validation set\n",
            "Got 78 / 1000 correct (7.80)\n",
            "\n",
            "Iteration 700, loss = 6.6237\n",
            "Checking accuracy on validation set\n",
            "Got 78 / 1000 correct (7.80)\n",
            "\n",
            "Iteration 0, loss = 6.5995\n",
            "Checking accuracy on validation set\n",
            "Got 78 / 1000 correct (7.80)\n",
            "\n",
            "Iteration 100, loss = 6.5612\n",
            "Checking accuracy on validation set\n",
            "Got 78 / 1000 correct (7.80)\n",
            "\n",
            "Iteration 200, loss = 6.5243\n",
            "Checking accuracy on validation set\n",
            "Got 78 / 1000 correct (7.80)\n",
            "\n",
            "Iteration 300, loss = 6.4855\n",
            "Checking accuracy on validation set\n",
            "Got 78 / 1000 correct (7.80)\n",
            "\n",
            "Iteration 400, loss = 6.4487\n",
            "Checking accuracy on validation set\n",
            "Got 78 / 1000 correct (7.80)\n",
            "\n",
            "Iteration 500, loss = 6.4094\n",
            "Checking accuracy on validation set\n",
            "Got 78 / 1000 correct (7.80)\n",
            "\n",
            "Iteration 600, loss = 6.3718\n",
            "Checking accuracy on validation set\n",
            "Got 78 / 1000 correct (7.80)\n",
            "\n",
            "Iteration 700, loss = 6.3344\n",
            "Checking accuracy on validation set\n",
            "Got 78 / 1000 correct (7.80)\n",
            "\n"
          ]
        },
        {
          "output_type": "display_data",
          "data": {
            "text/plain": [
              "<Figure size 640x480 with 1 Axes>"
            ],
            "image/png": "[encoded data removed]"
          },
          "metadata": {}
        }
      ],
      "source": [
        "################################################################################\n",
        "# TODO:                                                                        #\n",
        "# Experiment with any architectures, optimizers, and hyperparameters.          #\n",
        "# Achieve AT LEAST 70% accuracy on the *validation set* within 10 epochs.      #\n",
        "#                                                                              #\n",
        "# Note that you can use the check_accuracy function to evaluate on either      #\n",
        "# the test set or the validation set, by passing either loader_test or         #\n",
        "# loader_val as the second argument to check_accuracy. You should not touch    #\n",
        "# the test set until you have finished your architecture and  hyperparameter   #\n",
        "# tuning, and only run the test set once at the end to report a final value.   #\n",
        "################################################################################\n",
        "model = None\n",
        "optimizer = None\n",
        "experiment_name = \"model2_arch_lr0.0001\"  # e.g., \"model1_sgd_lr0.1\", \"model2_adam_lr0.001\"\n",
        "# Change the above experiment_name to store the avg_losses while perserving\n",
        "# the previous avg_losses. Using the same value for experiment_name results in\n",
        "# overwriting the previous one.\n",
        "\n",
        "# *****START OF YOUR CODE (DO NOT DELETE/MODIFY THIS LINE)*****\n",
        "\n",
        "# Model 2\n",
        "learning_rate = 0.0001\n",
        "model = nn.Sequential(\n",
        "    # features\n",
        "    nn.Conv2d(3, 96, kernel_size=(11,11), stride=4, padding=0),\n",
        "    nn.ReLU(),\n",
        "    nn.MaxPool2d(kernel_size=3, stride=2),\n",
        "\n",
        "    nn.Conv2d(96, 256, kernel_size=(5,5), stride=1, padding=2),\n",
        "    nn.ReLU(),\n",
        "    nn.MaxPool2d(kernel_size=3, stride=2),\n",
        "\n",
        "    nn.Conv2d(256, 384, kernel_size=(3,3), stride=1, padding=1),\n",
        "    nn.ReLU(),\n",
        "    nn.MaxPool2d(kernel_size=3, stride=2),\n",
        "\n",
        "    nn.Conv2d(384, 256, kernel_size=(3,3), stride=1, padding=1),\n",
        "    nn.ReLU(),\n",
        "    nn.MaxPool2d(kernel_size=3, stride=2),\n",
        "    # ... modify # of layer\n",
        "\n",
        "    # classifier\n",
        "    Flatten(),\n",
        "    nn.Dropout(p=0.4), # modify\n",
        "    nn.Linear(1024, 4096),\n",
        "\n",
        "    nn.Dropout(p=0.4), # modify\n",
        "    nn.Linear(4096, 4096),\n",
        "    nn.Softmax(), # modify\n",
        "\n",
        "    nn.Linear(4096, 1000)\n",
        ")\n",
        "\n",
        "optimizer = optim.Adam(model.parameters(), lr=learning_rate)\n",
        "\n",
        "# *****END OF YOUR CODE (DO NOT DELETE/MODIFY THIS LINE)*****\n",
        "################################################################################\n",
        "#                                 END OF YOUR CODE                             #\n",
        "################################################################################\n",
        "\n",
        "# You should get at least 70% accuracy\n",
        "avg_losses = train_part5(model, optimizer, epochs=2)\n",
        "avg_losses = np.array(avg_losses)\n",
        "np.save(\"%s.npy\" % experiment_name, avg_losses)\n",
        "\n",
        "plt.plot(avg_losses)\n",
        "plt.title(\"Training Loss (%s)\" % experiment_name)\n",
        "plt.show()"
      ]
    },
    {
      "cell_type": "markdown",
      "metadata": {
        "id": "5samHtMggn_8"
      },
      "source": [
        "이전에 실행한 `experiment_name` 여러 개를 리스트 내에 나열해 보세요. 각 실험의 손실 함수 추이를 비교할 수 있습니다."
      ]
    },
    {
      "cell_type": "code",
      "execution_count": 24,
      "metadata": {
        "id": "bdyq9pfCgqaz",
        "colab": {
          "base_uri": "https://localhost:8080/",
          "height": 452
        },
        "outputId": "f9856d9f-9900-4322-811b-126537cd7a15"
      },
      "outputs": [
        {
          "output_type": "display_data",
          "data": {
            "text/plain": [
              "<Figure size 640x480 with 1 Axes>"
            ],
            "image/png": "[encoded data removed]"
          },
          "metadata": {}
        }
      ],
      "source": [
        "experiment_names = [\"model1_norm_lr0.0001\", \"model2_arch_lr0.0001\"]\n",
        "\n",
        "for experiment_name in experiment_names:\n",
        "    avg_losses = np.load(\"%s.npy\" % experiment_name)\n",
        "    plt.plot(avg_losses, label=experiment_name)\n",
        "plt.title(\"Training Loss Comparison\")\n",
        "plt.legend(loc=\"upper right\")\n",
        "plt.show()"
      ]
    },
    {
      "cell_type": "markdown",
      "metadata": {
        "id": "Wn0hm7nvpR2E"
      },
      "source": [
        "## Describe what you did\n",
        "\n",
        "아래 칸에 자신이 수행한 작업, 구현한 추가 기능 및/또는 네트워크를 훈련하고 평가하는 과정에서 만든 그래프에 대한 설명을 작성해야 합니다."
      ]
    },
    {
      "cell_type": "markdown",
      "metadata": {
        "id": "85-8eL1mpR2E"
      },
      "source": [
        "**Answer:**\n",
        "\n",
        "**모델 1.** 기존 AlexNet 아키텍처에서 Batch normalization 부분을 추가하였다. Convolutional Layer 뒤에 spatial batch normalization 을, affine 레이어 뒤에 vanilla batch normalization을 추가하였다. 훈련 과정에서 LOSS 추이를 살펴보면 (그래프), LOSS가 점차 줄어드는 양상을 발견할수 있다. 정확도 또한 실제 70% 이상을 달성하고 있다.\n",
        "\n",
        "**모델 2.** 기존 AlexNet 아키텍처를 변형하여 새로운 네트워크 아키텍처를 구현하였다. 구체적으로  [ conv-relu-pool ] x 4 -> [ affine ] x 2 -> [ softmax ] 의 형태이며, 각 레이어의 개수는 임의로 설정하였다. 또한 affine 레이어에서의 drop-out 비율 또한 조정해보았다. 그렇지만 결론적으로는 정말 낮은 성능의 (최악의) LOSS 결과가 도출되었다."
      ]
    },
    {
      "cell_type": "markdown",
      "metadata": {
        "id": "RM-B3G5ypR2F"
      },
      "source": [
        "## Test set -- run this only once\n",
        "\n",
        "이제 만족스러운 결과를 얻었으므로 테스트 세트에서 최종 모델을 테스트합니다(best_model에 저장해야 함). 이것이 유효성 검사 세트 정확도와 어떻게 비교되는지 생각해 보세요."
      ]
    },
    {
      "cell_type": "code",
      "execution_count": 28,
      "metadata": {
        "id": "7KGIAvAZpR2F",
        "colab": {
          "base_uri": "https://localhost:8080/"
        },
        "outputId": "fb1adaa3-4851-4898-8153-88d9c0036cdf"
      },
      "outputs": [
        {
          "output_type": "stream",
          "name": "stdout",
          "text": [
            "Checking accuracy on test set\n"
          ]
        },
        {
          "output_type": "stream",
          "name": "stderr",
          "text": [
            "/usr/local/lib/python3.10/dist-packages/torchvision/transforms/functional.py:1603: UserWarning: The default value of the antialias parameter of all the resizing transforms (Resize(), RandomResizedCrop(), etc.) will change from None to True in v0.17, in order to be consistent across the PIL and Tensor backends. To suppress this warning, directly pass antialias=True (recommended, future default), antialias=None (current default, which means False for Tensors and True for PIL), or antialias=False (only works on Tensors - PIL will still use antialiasing). This also applies if you are using the inference transforms from the models weights: update the call to weights.transforms(antialias=True).\n",
            "  warnings.warn(\n"
          ]
        },
        {
          "output_type": "stream",
          "name": "stdout",
          "text": [
            "Got 7453 / 10000 correct (74.53)\n"
          ]
        }
      ],
      "source": [
        "# best_model = model (최적 성능 모델 실험 셀로 이동)\n",
        "check_accuracy_part34(loader_test, best_model)"
      ]
    },
    {
      "cell_type": "markdown",
      "metadata": {
        "id": "48ZsEUyiocf-"
      },
      "source": [
        "# Additional Part. Pretrained model 불러오기\n",
        "\n",
        "Part V에서 만족스러운 결과를 얻으셨나요? PyTorch의 Model을 정의하는 능력은 매우 강력하지만, 때로는 다른 사람들이 만들어 둔 Model을 통해 빠르게 실험을 하고 싶을 때도 있습니다. 그럴 때를 위해 torchvision를 통해 pre-trained된 Model을 받을 수 있습니다.\n",
        "\n",
        "다음을 참고하세요: [torchvision document](https://pytorch.org/vision/stable/models.html#classification)\n",
        "\n",
        "Model의 구조가 궁금한 경우 print()를 통해 쉽게 확인해 볼 수 있습니다."
      ]
    },
    {
      "cell_type": "code",
      "execution_count": 29,
      "metadata": {
        "id": "aLXA4juyol1y",
        "colab": {
          "base_uri": "https://localhost:8080/"
        },
        "outputId": "1debf748-aa70-452a-8057-c4006e1ff293"
      },
      "outputs": [
        {
          "output_type": "stream",
          "name": "stderr",
          "text": [
            "/usr/local/lib/python3.10/dist-packages/torchvision/models/_utils.py:208: UserWarning: The parameter 'pretrained' is deprecated since 0.13 and may be removed in the future, please use 'weights' instead.\n",
            "  warnings.warn(\n",
            "/usr/local/lib/python3.10/dist-packages/torchvision/models/_utils.py:223: UserWarning: Arguments other than a weight enum or `None` for 'weights' are deprecated since 0.13 and may be removed in the future. The current behavior is equivalent to passing `weights=ResNet50_Weights.IMAGENET1K_V1`. You can also use `weights=ResNet50_Weights.DEFAULT` to get the most up-to-date weights.\n",
            "  warnings.warn(msg)\n",
            "Downloading: \"https://download.pytorch.org/models/resnet50-0676ba61.pth\" to /root/.cache/torch/hub/checkpoints/resnet50-0676ba61.pth\n",
            "100%|██████████| 97.8M/97.8M [00:00<00:00, 297MB/s]\n"
          ]
        },
        {
          "output_type": "stream",
          "name": "stdout",
          "text": [
            "ResNet(\n",
            "  (conv1): Conv2d(3, 64, kernel_size=(7, 7), stride=(2, 2), padding=(3, 3), bias=False)\n",
            "  (bn1): BatchNorm2d(64, eps=1e-05, momentum=0.1, affine=True, track_running_stats=True)\n",
            "  (relu): ReLU(inplace=True)\n",
            "  (maxpool): MaxPool2d(kernel_size=3, stride=2, padding=1, dilation=1, ceil_mode=False)\n",
            "  (layer1): Sequential(\n",
            "    (0): Bottleneck(\n",
            "      (conv1): Conv2d(64, 64, kernel_size=(1, 1), stride=(1, 1), bias=False)\n",
            "      (bn1): BatchNorm2d(64, eps=1e-05, momentum=0.1, affine=True, track_running_stats=True)\n",
            "      (conv2): Conv2d(64, 64, kernel_size=(3, 3), stride=(1, 1), padding=(1, 1), bias=False)\n",
            "      (bn2): BatchNorm2d(64, eps=1e-05, momentum=0.1, affine=True, track_running_stats=True)\n",
            "      (conv3): Conv2d(64, 256, kernel_size=(1, 1), stride=(1, 1), bias=False)\n",
            "      (bn3): BatchNorm2d(256, eps=1e-05, momentum=0.1, affine=True, track_running_stats=True)\n",
            "      (relu): ReLU(inplace=True)\n",
            "      (downsample): Sequential(\n",
            "        (0): Conv2d(64, 256, kernel_size=(1, 1), stride=(1, 1), bias=False)\n",
            "        (1): BatchNorm2d(256, eps=1e-05, momentum=0.1, affine=True, track_running_stats=True)\n",
            "      )\n",
            "    )\n",
            "    (1): Bottleneck(\n",
            "      (conv1): Conv2d(256, 64, kernel_size=(1, 1), stride=(1, 1), bias=False)\n",
            "      (bn1): BatchNorm2d(64, eps=1e-05, momentum=0.1, affine=True, track_running_stats=True)\n",
            "      (conv2): Conv2d(64, 64, kernel_size=(3, 3), stride=(1, 1), padding=(1, 1), bias=False)\n",
            "      (bn2): BatchNorm2d(64, eps=1e-05, momentum=0.1, affine=True, track_running_stats=True)\n",
            "      (conv3): Conv2d(64, 256, kernel_size=(1, 1), stride=(1, 1), bias=False)\n",
            "      (bn3): BatchNorm2d(256, eps=1e-05, momentum=0.1, affine=True, track_running_stats=True)\n",
            "      (relu): ReLU(inplace=True)\n",
            "    )\n",
            "    (2): Bottleneck(\n",
            "      (conv1): Conv2d(256, 64, kernel_size=(1, 1), stride=(1, 1), bias=False)\n",
            "      (bn1): BatchNorm2d(64, eps=1e-05, momentum=0.1, affine=True, track_running_stats=True)\n",
            "      (conv2): Conv2d(64, 64, kernel_size=(3, 3), stride=(1, 1), padding=(1, 1), bias=False)\n",
            "      (bn2): BatchNorm2d(64, eps=1e-05, momentum=0.1, affine=True, track_running_stats=True)\n",
            "      (conv3): Conv2d(64, 256, kernel_size=(1, 1), stride=(1, 1), bias=False)\n",
            "      (bn3): BatchNorm2d(256, eps=1e-05, momentum=0.1, affine=True, track_running_stats=True)\n",
            "      (relu): ReLU(inplace=True)\n",
            "    )\n",
            "  )\n",
            "  (layer2): Sequential(\n",
            "    (0): Bottleneck(\n",
            "      (conv1): Conv2d(256, 128, kernel_size=(1, 1), stride=(1, 1), bias=False)\n",
            "      (bn1): BatchNorm2d(128, eps=1e-05, momentum=0.1, affine=True, track_running_stats=True)\n",
            "      (conv2): Conv2d(128, 128, kernel_size=(3, 3), stride=(2, 2), padding=(1, 1), bias=False)\n",
            "      (bn2): BatchNorm2d(128, eps=1e-05, momentum=0.1, affine=True, track_running_stats=True)\n",
            "      (conv3): Conv2d(128, 512, kernel_size=(1, 1), stride=(1, 1), bias=False)\n",
            "      (bn3): BatchNorm2d(512, eps=1e-05, momentum=0.1, affine=True, track_running_stats=True)\n",
            "      (relu): ReLU(inplace=True)\n",
            "      (downsample): Sequential(\n",
            "        (0): Conv2d(256, 512, kernel_size=(1, 1), stride=(2, 2), bias=False)\n",
            "        (1): BatchNorm2d(512, eps=1e-05, momentum=0.1, affine=True, track_running_stats=True)\n",
            "      )\n",
            "    )\n",
            "    (1): Bottleneck(\n",
            "      (conv1): Conv2d(512, 128, kernel_size=(1, 1), stride=(1, 1), bias=False)\n",
            "      (bn1): BatchNorm2d(128, eps=1e-05, momentum=0.1, affine=True, track_running_stats=True)\n",
            "      (conv2): Conv2d(128, 128, kernel_size=(3, 3), stride=(1, 1), padding=(1, 1), bias=False)\n",
            "      (bn2): BatchNorm2d(128, eps=1e-05, momentum=0.1, affine=True, track_running_stats=True)\n",
            "      (conv3): Conv2d(128, 512, kernel_size=(1, 1), stride=(1, 1), bias=False)\n",
            "      (bn3): BatchNorm2d(512, eps=1e-05, momentum=0.1, affine=True, track_running_stats=True)\n",
            "      (relu): ReLU(inplace=True)\n",
            "    )\n",
            "    (2): Bottleneck(\n",
            "      (conv1): Conv2d(512, 128, kernel_size=(1, 1), stride=(1, 1), bias=False)\n",
            "      (bn1): BatchNorm2d(128, eps=1e-05, momentum=0.1, affine=True, track_running_stats=True)\n",
            "      (conv2): Conv2d(128, 128, kernel_size=(3, 3), stride=(1, 1), padding=(1, 1), bias=False)\n",
            "      (bn2): BatchNorm2d(128, eps=1e-05, momentum=0.1, affine=True, track_running_stats=True)\n",
            "      (conv3): Conv2d(128, 512, kernel_size=(1, 1), stride=(1, 1), bias=False)\n",
            "      (bn3): BatchNorm2d(512, eps=1e-05, momentum=0.1, affine=True, track_running_stats=True)\n",
            "      (relu): ReLU(inplace=True)\n",
            "    )\n",
            "    (3): Bottleneck(\n",
            "      (conv1): Conv2d(512, 128, kernel_size=(1, 1), stride=(1, 1), bias=False)\n",
            "      (bn1): BatchNorm2d(128, eps=1e-05, momentum=0.1, affine=True, track_running_stats=True)\n",
            "      (conv2): Conv2d(128, 128, kernel_size=(3, 3), stride=(1, 1), padding=(1, 1), bias=False)\n",
            "      (bn2): BatchNorm2d(128, eps=1e-05, momentum=0.1, affine=True, track_running_stats=True)\n",
            "      (conv3): Conv2d(128, 512, kernel_size=(1, 1), stride=(1, 1), bias=False)\n",
            "      (bn3): BatchNorm2d(512, eps=1e-05, momentum=0.1, affine=True, track_running_stats=True)\n",
            "      (relu): ReLU(inplace=True)\n",
            "    )\n",
            "  )\n",
            "  (layer3): Sequential(\n",
            "    (0): Bottleneck(\n",
            "      (conv1): Conv2d(512, 256, kernel_size=(1, 1), stride=(1, 1), bias=False)\n",
            "      (bn1): BatchNorm2d(256, eps=1e-05, momentum=0.1, affine=True, track_running_stats=True)\n",
            "      (conv2): Conv2d(256, 256, kernel_size=(3, 3), stride=(2, 2), padding=(1, 1), bias=False)\n",
            "      (bn2): BatchNorm2d(256, eps=1e-05, momentum=0.1, affine=True, track_running_stats=True)\n",
            "      (conv3): Conv2d(256, 1024, kernel_size=(1, 1), stride=(1, 1), bias=False)\n",
            "      (bn3): BatchNorm2d(1024, eps=1e-05, momentum=0.1, affine=True, track_running_stats=True)\n",
            "      (relu): ReLU(inplace=True)\n",
            "      (downsample): Sequential(\n",
            "        (0): Conv2d(512, 1024, kernel_size=(1, 1), stride=(2, 2), bias=False)\n",
            "        (1): BatchNorm2d(1024, eps=1e-05, momentum=0.1, affine=True, track_running_stats=True)\n",
            "      )\n",
            "    )\n",
            "    (1): Bottleneck(\n",
            "      (conv1): Conv2d(1024, 256, kernel_size=(1, 1), stride=(1, 1), bias=False)\n",
            "      (bn1): BatchNorm2d(256, eps=1e-05, momentum=0.1, affine=True, track_running_stats=True)\n",
            "      (conv2): Conv2d(256, 256, kernel_size=(3, 3), stride=(1, 1), padding=(1, 1), bias=False)\n",
            "      (bn2): BatchNorm2d(256, eps=1e-05, momentum=0.1, affine=True, track_running_stats=True)\n",
            "      (conv3): Conv2d(256, 1024, kernel_size=(1, 1), stride=(1, 1), bias=False)\n",
            "      (bn3): BatchNorm2d(1024, eps=1e-05, momentum=0.1, affine=True, track_running_stats=True)\n",
            "      (relu): ReLU(inplace=True)\n",
            "    )\n",
            "    (2): Bottleneck(\n",
            "      (conv1): Conv2d(1024, 256, kernel_size=(1, 1), stride=(1, 1), bias=False)\n",
            "      (bn1): BatchNorm2d(256, eps=1e-05, momentum=0.1, affine=True, track_running_stats=True)\n",
            "      (conv2): Conv2d(256, 256, kernel_size=(3, 3), stride=(1, 1), padding=(1, 1), bias=False)\n",
            "      (bn2): BatchNorm2d(256, eps=1e-05, momentum=0.1, affine=True, track_running_stats=True)\n",
            "      (conv3): Conv2d(256, 1024, kernel_size=(1, 1), stride=(1, 1), bias=False)\n",
            "      (bn3): BatchNorm2d(1024, eps=1e-05, momentum=0.1, affine=True, track_running_stats=True)\n",
            "      (relu): ReLU(inplace=True)\n",
            "    )\n",
            "    (3): Bottleneck(\n",
            "      (conv1): Conv2d(1024, 256, kernel_size=(1, 1), stride=(1, 1), bias=False)\n",
            "      (bn1): BatchNorm2d(256, eps=1e-05, momentum=0.1, affine=True, track_running_stats=True)\n",
            "      (conv2): Conv2d(256, 256, kernel_size=(3, 3), stride=(1, 1), padding=(1, 1), bias=False)\n",
            "      (bn2): BatchNorm2d(256, eps=1e-05, momentum=0.1, affine=True, track_running_stats=True)\n",
            "      (conv3): Conv2d(256, 1024, kernel_size=(1, 1), stride=(1, 1), bias=False)\n",
            "      (bn3): BatchNorm2d(1024, eps=1e-05, momentum=0.1, affine=True, track_running_stats=True)\n",
            "      (relu): ReLU(inplace=True)\n",
            "    )\n",
            "    (4): Bottleneck(\n",
            "      (conv1): Conv2d(1024, 256, kernel_size=(1, 1), stride=(1, 1), bias=False)\n",
            "      (bn1): BatchNorm2d(256, eps=1e-05, momentum=0.1, affine=True, track_running_stats=True)\n",
            "      (conv2): Conv2d(256, 256, kernel_size=(3, 3), stride=(1, 1), padding=(1, 1), bias=False)\n",
            "      (bn2): BatchNorm2d(256, eps=1e-05, momentum=0.1, affine=True, track_running_stats=True)\n",
            "      (conv3): Conv2d(256, 1024, kernel_size=(1, 1), stride=(1, 1), bias=False)\n",
            "      (bn3): BatchNorm2d(1024, eps=1e-05, momentum=0.1, affine=True, track_running_stats=True)\n",
            "      (relu): ReLU(inplace=True)\n",
            "    )\n",
            "    (5): Bottleneck(\n",
            "      (conv1): Conv2d(1024, 256, kernel_size=(1, 1), stride=(1, 1), bias=False)\n",
            "      (bn1): BatchNorm2d(256, eps=1e-05, momentum=0.1, affine=True, track_running_stats=True)\n",
            "      (conv2): Conv2d(256, 256, kernel_size=(3, 3), stride=(1, 1), padding=(1, 1), bias=False)\n",
            "      (bn2): BatchNorm2d(256, eps=1e-05, momentum=0.1, affine=True, track_running_stats=True)\n",
            "      (conv3): Conv2d(256, 1024, kernel_size=(1, 1), stride=(1, 1), bias=False)\n",
            "      (bn3): BatchNorm2d(1024, eps=1e-05, momentum=0.1, affine=True, track_running_stats=True)\n",
            "      (relu): ReLU(inplace=True)\n",
            "    )\n",
            "  )\n",
            "  (layer4): Sequential(\n",
            "    (0): Bottleneck(\n",
            "      (conv1): Conv2d(1024, 512, kernel_size=(1, 1), stride=(1, 1), bias=False)\n",
            "      (bn1): BatchNorm2d(512, eps=1e-05, momentum=0.1, affine=True, track_running_stats=True)\n",
            "      (conv2): Conv2d(512, 512, kernel_size=(3, 3), stride=(2, 2), padding=(1, 1), bias=False)\n",
            "      (bn2): BatchNorm2d(512, eps=1e-05, momentum=0.1, affine=True, track_running_stats=True)\n",
            "      (conv3): Conv2d(512, 2048, kernel_size=(1, 1), stride=(1, 1), bias=False)\n",
            "      (bn3): BatchNorm2d(2048, eps=1e-05, momentum=0.1, affine=True, track_running_stats=True)\n",
            "      (relu): ReLU(inplace=True)\n",
            "      (downsample): Sequential(\n",
            "        (0): Conv2d(1024, 2048, kernel_size=(1, 1), stride=(2, 2), bias=False)\n",
            "        (1): BatchNorm2d(2048, eps=1e-05, momentum=0.1, affine=True, track_running_stats=True)\n",
            "      )\n",
            "    )\n",
            "    (1): Bottleneck(\n",
            "      (conv1): Conv2d(2048, 512, kernel_size=(1, 1), stride=(1, 1), bias=False)\n",
            "      (bn1): BatchNorm2d(512, eps=1e-05, momentum=0.1, affine=True, track_running_stats=True)\n",
            "      (conv2): Conv2d(512, 512, kernel_size=(3, 3), stride=(1, 1), padding=(1, 1), bias=False)\n",
            "      (bn2): BatchNorm2d(512, eps=1e-05, momentum=0.1, affine=True, track_running_stats=True)\n",
            "      (conv3): Conv2d(512, 2048, kernel_size=(1, 1), stride=(1, 1), bias=False)\n",
            "      (bn3): BatchNorm2d(2048, eps=1e-05, momentum=0.1, affine=True, track_running_stats=True)\n",
            "      (relu): ReLU(inplace=True)\n",
            "    )\n",
            "    (2): Bottleneck(\n",
            "      (conv1): Conv2d(2048, 512, kernel_size=(1, 1), stride=(1, 1), bias=False)\n",
            "      (bn1): BatchNorm2d(512, eps=1e-05, momentum=0.1, affine=True, track_running_stats=True)\n",
            "      (conv2): Conv2d(512, 512, kernel_size=(3, 3), stride=(1, 1), padding=(1, 1), bias=False)\n",
            "      (bn2): BatchNorm2d(512, eps=1e-05, momentum=0.1, affine=True, track_running_stats=True)\n",
            "      (conv3): Conv2d(512, 2048, kernel_size=(1, 1), stride=(1, 1), bias=False)\n",
            "      (bn3): BatchNorm2d(2048, eps=1e-05, momentum=0.1, affine=True, track_running_stats=True)\n",
            "      (relu): ReLU(inplace=True)\n",
            "    )\n",
            "  )\n",
            "  (avgpool): AdaptiveAvgPool2d(output_size=(1, 1))\n",
            "  (fc): Linear(in_features=2048, out_features=1000, bias=True)\n",
            ")\n"
          ]
        }
      ],
      "source": [
        "from torchvision import models\n",
        "\n",
        "# Download resnet50 pretrained\n",
        "resnet_pretrained = models.resnet50(pretrained=True)\n",
        "print(resnet_pretrained)"
      ]
    },
    {
      "cell_type": "markdown",
      "metadata": {
        "id": "HyK1w2VotW_C"
      },
      "source": [
        "## Pretrained model 수정하기\n",
        "print()를 통해 확인할 수 있듯이, 다운 받은 ResNet Model의 마지막 Layer는 out_features=1000으로 설정되어 있습니다. 하지만 우리의 task에서는 Output이 10개 임으로, model 구조를 조금 수정해야 합니다."
      ]
    },
    {
      "cell_type": "code",
      "execution_count": 30,
      "metadata": {
        "id": "B726VCVjpcwK",
        "colab": {
          "base_uri": "https://localhost:8080/"
        },
        "outputId": "0311524b-4002-4698-a987-607851012e13"
      },
      "outputs": [
        {
          "output_type": "stream",
          "name": "stdout",
          "text": [
            "ResNet(\n",
            "  (conv1): Conv2d(3, 64, kernel_size=(7, 7), stride=(2, 2), padding=(3, 3), bias=False)\n",
            "  (bn1): BatchNorm2d(64, eps=1e-05, momentum=0.1, affine=True, track_running_stats=True)\n",
            "  (relu): ReLU(inplace=True)\n",
            "  (maxpool): MaxPool2d(kernel_size=3, stride=2, padding=1, dilation=1, ceil_mode=False)\n",
            "  (layer1): Sequential(\n",
            "    (0): Bottleneck(\n",
            "      (conv1): Conv2d(64, 64, kernel_size=(1, 1), stride=(1, 1), bias=False)\n",
            "      (bn1): BatchNorm2d(64, eps=1e-05, momentum=0.1, affine=True, track_running_stats=True)\n",
            "      (conv2): Conv2d(64, 64, kernel_size=(3, 3), stride=(1, 1), padding=(1, 1), bias=False)\n",
            "      (bn2): BatchNorm2d(64, eps=1e-05, momentum=0.1, affine=True, track_running_stats=True)\n",
            "      (conv3): Conv2d(64, 256, kernel_size=(1, 1), stride=(1, 1), bias=False)\n",
            "      (bn3): BatchNorm2d(256, eps=1e-05, momentum=0.1, affine=True, track_running_stats=True)\n",
            "      (relu): ReLU(inplace=True)\n",
            "      (downsample): Sequential(\n",
            "        (0): Conv2d(64, 256, kernel_size=(1, 1), stride=(1, 1), bias=False)\n",
            "        (1): BatchNorm2d(256, eps=1e-05, momentum=0.1, affine=True, track_running_stats=True)\n",
            "      )\n",
            "    )\n",
            "    (1): Bottleneck(\n",
            "      (conv1): Conv2d(256, 64, kernel_size=(1, 1), stride=(1, 1), bias=False)\n",
            "      (bn1): BatchNorm2d(64, eps=1e-05, momentum=0.1, affine=True, track_running_stats=True)\n",
            "      (conv2): Conv2d(64, 64, kernel_size=(3, 3), stride=(1, 1), padding=(1, 1), bias=False)\n",
            "      (bn2): BatchNorm2d(64, eps=1e-05, momentum=0.1, affine=True, track_running_stats=True)\n",
            "      (conv3): Conv2d(64, 256, kernel_size=(1, 1), stride=(1, 1), bias=False)\n",
            "      (bn3): BatchNorm2d(256, eps=1e-05, momentum=0.1, affine=True, track_running_stats=True)\n",
            "      (relu): ReLU(inplace=True)\n",
            "    )\n",
            "    (2): Bottleneck(\n",
            "      (conv1): Conv2d(256, 64, kernel_size=(1, 1), stride=(1, 1), bias=False)\n",
            "      (bn1): BatchNorm2d(64, eps=1e-05, momentum=0.1, affine=True, track_running_stats=True)\n",
            "      (conv2): Conv2d(64, 64, kernel_size=(3, 3), stride=(1, 1), padding=(1, 1), bias=False)\n",
            "      (bn2): BatchNorm2d(64, eps=1e-05, momentum=0.1, affine=True, track_running_stats=True)\n",
            "      (conv3): Conv2d(64, 256, kernel_size=(1, 1), stride=(1, 1), bias=False)\n",
            "      (bn3): BatchNorm2d(256, eps=1e-05, momentum=0.1, affine=True, track_running_stats=True)\n",
            "      (relu): ReLU(inplace=True)\n",
            "    )\n",
            "  )\n",
            "  (layer2): Sequential(\n",
            "    (0): Bottleneck(\n",
            "      (conv1): Conv2d(256, 128, kernel_size=(1, 1), stride=(1, 1), bias=False)\n",
            "      (bn1): BatchNorm2d(128, eps=1e-05, momentum=0.1, affine=True, track_running_stats=True)\n",
            "      (conv2): Conv2d(128, 128, kernel_size=(3, 3), stride=(2, 2), padding=(1, 1), bias=False)\n",
            "      (bn2): BatchNorm2d(128, eps=1e-05, momentum=0.1, affine=True, track_running_stats=True)\n",
            "      (conv3): Conv2d(128, 512, kernel_size=(1, 1), stride=(1, 1), bias=False)\n",
            "      (bn3): BatchNorm2d(512, eps=1e-05, momentum=0.1, affine=True, track_running_stats=True)\n",
            "      (relu): ReLU(inplace=True)\n",
            "      (downsample): Sequential(\n",
            "        (0): Conv2d(256, 512, kernel_size=(1, 1), stride=(2, 2), bias=False)\n",
            "        (1): BatchNorm2d(512, eps=1e-05, momentum=0.1, affine=True, track_running_stats=True)\n",
            "      )\n",
            "    )\n",
            "    (1): Bottleneck(\n",
            "      (conv1): Conv2d(512, 128, kernel_size=(1, 1), stride=(1, 1), bias=False)\n",
            "      (bn1): BatchNorm2d(128, eps=1e-05, momentum=0.1, affine=True, track_running_stats=True)\n",
            "      (conv2): Conv2d(128, 128, kernel_size=(3, 3), stride=(1, 1), padding=(1, 1), bias=False)\n",
            "      (bn2): BatchNorm2d(128, eps=1e-05, momentum=0.1, affine=True, track_running_stats=True)\n",
            "      (conv3): Conv2d(128, 512, kernel_size=(1, 1), stride=(1, 1), bias=False)\n",
            "      (bn3): BatchNorm2d(512, eps=1e-05, momentum=0.1, affine=True, track_running_stats=True)\n",
            "      (relu): ReLU(inplace=True)\n",
            "    )\n",
            "    (2): Bottleneck(\n",
            "      (conv1): Conv2d(512, 128, kernel_size=(1, 1), stride=(1, 1), bias=False)\n",
            "      (bn1): BatchNorm2d(128, eps=1e-05, momentum=0.1, affine=True, track_running_stats=True)\n",
            "      (conv2): Conv2d(128, 128, kernel_size=(3, 3), stride=(1, 1), padding=(1, 1), bias=False)\n",
            "      (bn2): BatchNorm2d(128, eps=1e-05, momentum=0.1, affine=True, track_running_stats=True)\n",
            "      (conv3): Conv2d(128, 512, kernel_size=(1, 1), stride=(1, 1), bias=False)\n",
            "      (bn3): BatchNorm2d(512, eps=1e-05, momentum=0.1, affine=True, track_running_stats=True)\n",
            "      (relu): ReLU(inplace=True)\n",
            "    )\n",
            "    (3): Bottleneck(\n",
            "      (conv1): Conv2d(512, 128, kernel_size=(1, 1), stride=(1, 1), bias=False)\n",
            "      (bn1): BatchNorm2d(128, eps=1e-05, momentum=0.1, affine=True, track_running_stats=True)\n",
            "      (conv2): Conv2d(128, 128, kernel_size=(3, 3), stride=(1, 1), padding=(1, 1), bias=False)\n",
            "      (bn2): BatchNorm2d(128, eps=1e-05, momentum=0.1, affine=True, track_running_stats=True)\n",
            "      (conv3): Conv2d(128, 512, kernel_size=(1, 1), stride=(1, 1), bias=False)\n",
            "      (bn3): BatchNorm2d(512, eps=1e-05, momentum=0.1, affine=True, track_running_stats=True)\n",
            "      (relu): ReLU(inplace=True)\n",
            "    )\n",
            "  )\n",
            "  (layer3): Sequential(\n",
            "    (0): Bottleneck(\n",
            "      (conv1): Conv2d(512, 256, kernel_size=(1, 1), stride=(1, 1), bias=False)\n",
            "      (bn1): BatchNorm2d(256, eps=1e-05, momentum=0.1, affine=True, track_running_stats=True)\n",
            "      (conv2): Conv2d(256, 256, kernel_size=(3, 3), stride=(2, 2), padding=(1, 1), bias=False)\n",
            "      (bn2): BatchNorm2d(256, eps=1e-05, momentum=0.1, affine=True, track_running_stats=True)\n",
            "      (conv3): Conv2d(256, 1024, kernel_size=(1, 1), stride=(1, 1), bias=False)\n",
            "      (bn3): BatchNorm2d(1024, eps=1e-05, momentum=0.1, affine=True, track_running_stats=True)\n",
            "      (relu): ReLU(inplace=True)\n",
            "      (downsample): Sequential(\n",
            "        (0): Conv2d(512, 1024, kernel_size=(1, 1), stride=(2, 2), bias=False)\n",
            "        (1): BatchNorm2d(1024, eps=1e-05, momentum=0.1, affine=True, track_running_stats=True)\n",
            "      )\n",
            "    )\n",
            "    (1): Bottleneck(\n",
            "      (conv1): Conv2d(1024, 256, kernel_size=(1, 1), stride=(1, 1), bias=False)\n",
            "      (bn1): BatchNorm2d(256, eps=1e-05, momentum=0.1, affine=True, track_running_stats=True)\n",
            "      (conv2): Conv2d(256, 256, kernel_size=(3, 3), stride=(1, 1), padding=(1, 1), bias=False)\n",
            "      (bn2): BatchNorm2d(256, eps=1e-05, momentum=0.1, affine=True, track_running_stats=True)\n",
            "      (conv3): Conv2d(256, 1024, kernel_size=(1, 1), stride=(1, 1), bias=False)\n",
            "      (bn3): BatchNorm2d(1024, eps=1e-05, momentum=0.1, affine=True, track_running_stats=True)\n",
            "      (relu): ReLU(inplace=True)\n",
            "    )\n",
            "    (2): Bottleneck(\n",
            "      (conv1): Conv2d(1024, 256, kernel_size=(1, 1), stride=(1, 1), bias=False)\n",
            "      (bn1): BatchNorm2d(256, eps=1e-05, momentum=0.1, affine=True, track_running_stats=True)\n",
            "      (conv2): Conv2d(256, 256, kernel_size=(3, 3), stride=(1, 1), padding=(1, 1), bias=False)\n",
            "      (bn2): BatchNorm2d(256, eps=1e-05, momentum=0.1, affine=True, track_running_stats=True)\n",
            "      (conv3): Conv2d(256, 1024, kernel_size=(1, 1), stride=(1, 1), bias=False)\n",
            "      (bn3): BatchNorm2d(1024, eps=1e-05, momentum=0.1, affine=True, track_running_stats=True)\n",
            "      (relu): ReLU(inplace=True)\n",
            "    )\n",
            "    (3): Bottleneck(\n",
            "      (conv1): Conv2d(1024, 256, kernel_size=(1, 1), stride=(1, 1), bias=False)\n",
            "      (bn1): BatchNorm2d(256, eps=1e-05, momentum=0.1, affine=True, track_running_stats=True)\n",
            "      (conv2): Conv2d(256, 256, kernel_size=(3, 3), stride=(1, 1), padding=(1, 1), bias=False)\n",
            "      (bn2): BatchNorm2d(256, eps=1e-05, momentum=0.1, affine=True, track_running_stats=True)\n",
            "      (conv3): Conv2d(256, 1024, kernel_size=(1, 1), stride=(1, 1), bias=False)\n",
            "      (bn3): BatchNorm2d(1024, eps=1e-05, momentum=0.1, affine=True, track_running_stats=True)\n",
            "      (relu): ReLU(inplace=True)\n",
            "    )\n",
            "    (4): Bottleneck(\n",
            "      (conv1): Conv2d(1024, 256, kernel_size=(1, 1), stride=(1, 1), bias=False)\n",
            "      (bn1): BatchNorm2d(256, eps=1e-05, momentum=0.1, affine=True, track_running_stats=True)\n",
            "      (conv2): Conv2d(256, 256, kernel_size=(3, 3), stride=(1, 1), padding=(1, 1), bias=False)\n",
            "      (bn2): BatchNorm2d(256, eps=1e-05, momentum=0.1, affine=True, track_running_stats=True)\n",
            "      (conv3): Conv2d(256, 1024, kernel_size=(1, 1), stride=(1, 1), bias=False)\n",
            "      (bn3): BatchNorm2d(1024, eps=1e-05, momentum=0.1, affine=True, track_running_stats=True)\n",
            "      (relu): ReLU(inplace=True)\n",
            "    )\n",
            "    (5): Bottleneck(\n",
            "      (conv1): Conv2d(1024, 256, kernel_size=(1, 1), stride=(1, 1), bias=False)\n",
            "      (bn1): BatchNorm2d(256, eps=1e-05, momentum=0.1, affine=True, track_running_stats=True)\n",
            "      (conv2): Conv2d(256, 256, kernel_size=(3, 3), stride=(1, 1), padding=(1, 1), bias=False)\n",
            "      (bn2): BatchNorm2d(256, eps=1e-05, momentum=0.1, affine=True, track_running_stats=True)\n",
            "      (conv3): Conv2d(256, 1024, kernel_size=(1, 1), stride=(1, 1), bias=False)\n",
            "      (bn3): BatchNorm2d(1024, eps=1e-05, momentum=0.1, affine=True, track_running_stats=True)\n",
            "      (relu): ReLU(inplace=True)\n",
            "    )\n",
            "  )\n",
            "  (layer4): Sequential(\n",
            "    (0): Bottleneck(\n",
            "      (conv1): Conv2d(1024, 512, kernel_size=(1, 1), stride=(1, 1), bias=False)\n",
            "      (bn1): BatchNorm2d(512, eps=1e-05, momentum=0.1, affine=True, track_running_stats=True)\n",
            "      (conv2): Conv2d(512, 512, kernel_size=(3, 3), stride=(2, 2), padding=(1, 1), bias=False)\n",
            "      (bn2): BatchNorm2d(512, eps=1e-05, momentum=0.1, affine=True, track_running_stats=True)\n",
            "      (conv3): Conv2d(512, 2048, kernel_size=(1, 1), stride=(1, 1), bias=False)\n",
            "      (bn3): BatchNorm2d(2048, eps=1e-05, momentum=0.1, affine=True, track_running_stats=True)\n",
            "      (relu): ReLU(inplace=True)\n",
            "      (downsample): Sequential(\n",
            "        (0): Conv2d(1024, 2048, kernel_size=(1, 1), stride=(2, 2), bias=False)\n",
            "        (1): BatchNorm2d(2048, eps=1e-05, momentum=0.1, affine=True, track_running_stats=True)\n",
            "      )\n",
            "    )\n",
            "    (1): Bottleneck(\n",
            "      (conv1): Conv2d(2048, 512, kernel_size=(1, 1), stride=(1, 1), bias=False)\n",
            "      (bn1): BatchNorm2d(512, eps=1e-05, momentum=0.1, affine=True, track_running_stats=True)\n",
            "      (conv2): Conv2d(512, 512, kernel_size=(3, 3), stride=(1, 1), padding=(1, 1), bias=False)\n",
            "      (bn2): BatchNorm2d(512, eps=1e-05, momentum=0.1, affine=True, track_running_stats=True)\n",
            "      (conv3): Conv2d(512, 2048, kernel_size=(1, 1), stride=(1, 1), bias=False)\n",
            "      (bn3): BatchNorm2d(2048, eps=1e-05, momentum=0.1, affine=True, track_running_stats=True)\n",
            "      (relu): ReLU(inplace=True)\n",
            "    )\n",
            "    (2): Bottleneck(\n",
            "      (conv1): Conv2d(2048, 512, kernel_size=(1, 1), stride=(1, 1), bias=False)\n",
            "      (bn1): BatchNorm2d(512, eps=1e-05, momentum=0.1, affine=True, track_running_stats=True)\n",
            "      (conv2): Conv2d(512, 512, kernel_size=(3, 3), stride=(1, 1), padding=(1, 1), bias=False)\n",
            "      (bn2): BatchNorm2d(512, eps=1e-05, momentum=0.1, affine=True, track_running_stats=True)\n",
            "      (conv3): Conv2d(512, 2048, kernel_size=(1, 1), stride=(1, 1), bias=False)\n",
            "      (bn3): BatchNorm2d(2048, eps=1e-05, momentum=0.1, affine=True, track_running_stats=True)\n",
            "      (relu): ReLU(inplace=True)\n",
            "    )\n",
            "  )\n",
            "  (avgpool): AdaptiveAvgPool2d(output_size=(1, 1))\n",
            "  (fc): Linear(in_features=2048, out_features=10, bias=True)\n",
            ")\n"
          ]
        }
      ],
      "source": [
        "num_ftrs = resnet_pretrained.fc.in_features\n",
        "num_classes = 10\n",
        "\n",
        "# Model이 가진 'fc'라는 이름을 가진 Layer에 직접 접근해 수정해 줄 수 있습니다.\n",
        "resnet_pretrained.fc = nn.Linear(num_ftrs, num_classes)\n",
        "print(resnet_pretrained)"
      ]
    },
    {
      "cell_type": "markdown",
      "metadata": {
        "id": "-oUEPMcPsiBJ"
      },
      "source": [
        "## Fine tuning model 성능 평가 하기\n",
        "이제 Fine tuning 한 Model의 성능을 평가해 봅시다."
      ]
    },
    {
      "cell_type": "code",
      "execution_count": 31,
      "metadata": {
        "id": "wUaV2rF7LAX5",
        "colab": {
          "base_uri": "https://localhost:8080/",
          "height": 1000
        },
        "outputId": "896dcc44-d116-4b24-8e93-fb79bcb7c3c1"
      },
      "outputs": [
        {
          "output_type": "stream",
          "name": "stdout",
          "text": [
            "Iteration 0, loss = 2.3430\n",
            "Checking accuracy on validation set\n",
            "Got 113 / 1000 correct (11.30)\n",
            "\n",
            "Iteration 100, loss = 2.2985\n",
            "Checking accuracy on validation set\n",
            "Got 120 / 1000 correct (12.00)\n",
            "\n",
            "Iteration 200, loss = 2.1132\n",
            "Checking accuracy on validation set\n",
            "Got 194 / 1000 correct (19.40)\n",
            "\n",
            "Iteration 300, loss = 1.9488\n",
            "Checking accuracy on validation set\n",
            "Got 244 / 1000 correct (24.40)\n",
            "\n",
            "Iteration 400, loss = 1.9180\n",
            "Checking accuracy on validation set\n",
            "Got 269 / 1000 correct (26.90)\n",
            "\n",
            "Iteration 500, loss = 1.8446\n",
            "Checking accuracy on validation set\n",
            "Got 271 / 1000 correct (27.10)\n",
            "\n",
            "Iteration 600, loss = 1.6475\n",
            "Checking accuracy on validation set\n",
            "Got 362 / 1000 correct (36.20)\n",
            "\n",
            "Iteration 700, loss = 1.7017\n",
            "Checking accuracy on validation set\n",
            "Got 360 / 1000 correct (36.00)\n",
            "\n",
            "Iteration 0, loss = 1.7935\n",
            "Checking accuracy on validation set\n",
            "Got 296 / 1000 correct (29.60)\n",
            "\n",
            "Iteration 100, loss = 1.4534\n",
            "Checking accuracy on validation set\n",
            "Got 362 / 1000 correct (36.20)\n",
            "\n",
            "Iteration 200, loss = 1.5308\n",
            "Checking accuracy on validation set\n",
            "Got 373 / 1000 correct (37.30)\n",
            "\n",
            "Iteration 300, loss = 1.5856\n",
            "Checking accuracy on validation set\n",
            "Got 440 / 1000 correct (44.00)\n",
            "\n",
            "Iteration 400, loss = 1.4371\n",
            "Checking accuracy on validation set\n",
            "Got 469 / 1000 correct (46.90)\n",
            "\n",
            "Iteration 500, loss = 1.6982\n",
            "Checking accuracy on validation set\n",
            "Got 465 / 1000 correct (46.50)\n",
            "\n",
            "Iteration 600, loss = 1.2953\n",
            "Checking accuracy on validation set\n",
            "Got 471 / 1000 correct (47.10)\n",
            "\n",
            "Iteration 700, loss = 1.0696\n",
            "Checking accuracy on validation set\n",
            "Got 500 / 1000 correct (50.00)\n",
            "\n",
            "Iteration 0, loss = 1.2524\n",
            "Checking accuracy on validation set\n",
            "Got 524 / 1000 correct (52.40)\n",
            "\n",
            "Iteration 100, loss = 1.2855\n",
            "Checking accuracy on validation set\n",
            "Got 558 / 1000 correct (55.80)\n",
            "\n",
            "Iteration 200, loss = 1.1018\n",
            "Checking accuracy on validation set\n",
            "Got 547 / 1000 correct (54.70)\n",
            "\n",
            "Iteration 300, loss = 0.9313\n",
            "Checking accuracy on validation set\n",
            "Got 557 / 1000 correct (55.70)\n",
            "\n",
            "Iteration 400, loss = 1.1022\n",
            "Checking accuracy on validation set\n",
            "Got 603 / 1000 correct (60.30)\n",
            "\n",
            "Iteration 500, loss = 0.9770\n",
            "Checking accuracy on validation set\n",
            "Got 582 / 1000 correct (58.20)\n",
            "\n",
            "Iteration 600, loss = 1.0328\n",
            "Checking accuracy on validation set\n",
            "Got 609 / 1000 correct (60.90)\n",
            "\n",
            "Iteration 700, loss = 1.3483\n",
            "Checking accuracy on validation set\n",
            "Got 605 / 1000 correct (60.50)\n",
            "\n",
            "Iteration 0, loss = 0.9215\n",
            "Checking accuracy on validation set\n",
            "Got 603 / 1000 correct (60.30)\n",
            "\n",
            "Iteration 100, loss = 1.1799\n",
            "Checking accuracy on validation set\n",
            "Got 607 / 1000 correct (60.70)\n",
            "\n",
            "Iteration 200, loss = 1.0951\n",
            "Checking accuracy on validation set\n",
            "Got 615 / 1000 correct (61.50)\n",
            "\n"
          ]
        },
        {
          "output_type": "error",
          "ename": "KeyboardInterrupt",
          "evalue": "ignored",
          "traceback": [
            "\u001b[0;31m---------------------------------------------------------------------------\u001b[0m",
            "\u001b[0;31mKeyboardInterrupt\u001b[0m                         Traceback (most recent call last)",
            "\u001b[0;32m<ipython-input-31-8db71db0dcac>\u001b[0m in \u001b[0;36m<cell line: 2>\u001b[0;34m()\u001b[0m\n\u001b[1;32m      1\u001b[0m \u001b[0moptimizer\u001b[0m \u001b[0;34m=\u001b[0m \u001b[0moptim\u001b[0m\u001b[0;34m.\u001b[0m\u001b[0mAdam\u001b[0m\u001b[0;34m(\u001b[0m\u001b[0mresnet_pretrained\u001b[0m\u001b[0;34m.\u001b[0m\u001b[0mparameters\u001b[0m\u001b[0;34m(\u001b[0m\u001b[0;34m)\u001b[0m\u001b[0;34m,\u001b[0m \u001b[0mlr\u001b[0m \u001b[0;34m=\u001b[0m \u001b[0;36m0.01\u001b[0m\u001b[0;34m)\u001b[0m\u001b[0;34m\u001b[0m\u001b[0;34m\u001b[0m\u001b[0m\n\u001b[0;32m----> 2\u001b[0;31m \u001b[0mtrain_part34\u001b[0m\u001b[0;34m(\u001b[0m\u001b[0mresnet_pretrained\u001b[0m\u001b[0;34m,\u001b[0m \u001b[0moptimizer\u001b[0m\u001b[0;34m,\u001b[0m \u001b[0mepochs\u001b[0m\u001b[0;34m=\u001b[0m\u001b[0;36m100\u001b[0m\u001b[0;34m)\u001b[0m\u001b[0;34m\u001b[0m\u001b[0;34m\u001b[0m\u001b[0m\n\u001b[0m",
            "\u001b[0;32m<ipython-input-16-efe653b99eac>\u001b[0m in \u001b[0;36mtrain_part34\u001b[0;34m(model, optimizer, epochs)\u001b[0m\n\u001b[1;32m     14\u001b[0m         \u001b[0;32mfor\u001b[0m \u001b[0mt\u001b[0m\u001b[0;34m,\u001b[0m \u001b[0;34m(\u001b[0m\u001b[0mx\u001b[0m\u001b[0;34m,\u001b[0m \u001b[0my\u001b[0m\u001b[0;34m)\u001b[0m \u001b[0;32min\u001b[0m \u001b[0menumerate\u001b[0m\u001b[0;34m(\u001b[0m\u001b[0mloader_train\u001b[0m\u001b[0;34m)\u001b[0m\u001b[0;34m:\u001b[0m\u001b[0;34m\u001b[0m\u001b[0;34m\u001b[0m\u001b[0m\n\u001b[1;32m     15\u001b[0m             \u001b[0mmodel\u001b[0m\u001b[0;34m.\u001b[0m\u001b[0mtrain\u001b[0m\u001b[0;34m(\u001b[0m\u001b[0;34m)\u001b[0m  \u001b[0;31m# put model to training mode\u001b[0m\u001b[0;34m\u001b[0m\u001b[0;34m\u001b[0m\u001b[0m\n\u001b[0;32m---> 16\u001b[0;31m             \u001b[0mx\u001b[0m \u001b[0;34m=\u001b[0m \u001b[0mx\u001b[0m\u001b[0;34m.\u001b[0m\u001b[0mto\u001b[0m\u001b[0;34m(\u001b[0m\u001b[0mdevice\u001b[0m\u001b[0;34m=\u001b[0m\u001b[0mdevice\u001b[0m\u001b[0;34m,\u001b[0m \u001b[0mdtype\u001b[0m\u001b[0;34m=\u001b[0m\u001b[0mdtype\u001b[0m\u001b[0;34m)\u001b[0m  \u001b[0;31m# move to device, e.g. GPU\u001b[0m\u001b[0;34m\u001b[0m\u001b[0;34m\u001b[0m\u001b[0m\n\u001b[0m\u001b[1;32m     17\u001b[0m             \u001b[0my\u001b[0m \u001b[0;34m=\u001b[0m \u001b[0my\u001b[0m\u001b[0;34m.\u001b[0m\u001b[0mto\u001b[0m\u001b[0;34m(\u001b[0m\u001b[0mdevice\u001b[0m\u001b[0;34m=\u001b[0m\u001b[0mdevice\u001b[0m\u001b[0;34m,\u001b[0m \u001b[0mdtype\u001b[0m\u001b[0;34m=\u001b[0m\u001b[0mtorch\u001b[0m\u001b[0;34m.\u001b[0m\u001b[0mlong\u001b[0m\u001b[0;34m)\u001b[0m\u001b[0;34m\u001b[0m\u001b[0;34m\u001b[0m\u001b[0m\n\u001b[1;32m     18\u001b[0m \u001b[0;34m\u001b[0m\u001b[0m\n",
            "\u001b[0;31mKeyboardInterrupt\u001b[0m: "
          ]
        }
      ],
      "source": [
        "optimizer = optim.Adam(resnet_pretrained.parameters(), lr = 0.01)\n",
        "train_part34(resnet_pretrained, optimizer, epochs=100)"
      ]
    },
    {
      "cell_type": "code",
      "execution_count": null,
      "metadata": {
        "id": "_l7diPcCqO_4"
      },
      "outputs": [],
      "source": [
        "check_accuracy_part34(loader_test, resnet_pretrained)"
      ]
    },
    {
      "cell_type": "markdown",
      "metadata": {
        "id": "wvtjmX24uhMg"
      },
      "source": [
        "만족스러운 결과를 얻으셨나요?\n",
        "\n",
        "직접 만든 Model과 비교해 봤을 때 어떤 model이 더 성능이 좋았고 왜 그런 결과가 나왔을까요?\n",
        "\n",
        "만약 학습이 잘 되지 않았다면 어떻게 해결할 수 있을까요?\n",
        "\n",
        "> [torchvision document](https://pytorch.org/vision/stable/index.html)에 있는 다양한 Model들을 시도해 보면서 비교해 보도록 합시다."
      ]
    },
    {
      "cell_type": "code",
      "execution_count": null,
      "metadata": {
        "id": "pOnK6v92vIwR"
      },
      "outputs": [],
      "source": [
        "################################################################################\n",
        "# TODO:                                                                        #\n",
        "# Download any pretrained model from torchvision, then finetuning them         #\n",
        "################################################################################\n",
        "model = None\n",
        "optimizer = None\n",
        "\n",
        "# *****START OF YOUR CODE (DO NOT DELETE/MODIFY THIS LINE)*****\n",
        "\n",
        "model = models.vision_transformer(pretrained=True)\n",
        "# model = models.GoogLeNet(pretrained=True)'\n",
        "# model = models.VGG(pretrained=True)\n",
        "num_ftrs = model.fc.in_features\n",
        "num_classes = 10\n",
        "model.fc = nn.Linear(num_ftrs, num_classes)\n",
        "\n",
        "optimizer = optim.Adam(model.fc.parameters(), lr = 0.01)\n",
        "\n",
        "# *****END OF YOUR CODE (DO NOT DELETE/MODIFY THIS LINE)*****\n",
        "################################################################################\n",
        "#                                 END OF YOUR CODE                             #\n",
        "################################################################################\n",
        "\n",
        "train_part34(model, optimizer, epochs=10)"
      ]
    },
    {
      "cell_type": "markdown",
      "metadata": {
        "id": "7qtKTBHduRa5"
      },
      "source": [
        "**Answer:**\n",
        "\n",
        "ResNet 학습 결과는 충분히 만족스럽게 나왔다. 다만 제출까지의 시간 관계상 다른 모델들까지 모두 학습을 돌려보지는 못하였는데, 아마 점점 최신 모델일수록 더 좋은 성능을 낼 것으로 기대된다. 수업 때 보았던 Classification 대회에서의 결과를 보면, 나중 모델일 수록 층도 더 깊어지고 성능도 더 좋았던것으로 기억한다."
      ]
    }
  ],
  "metadata": {
    "accelerator": "GPU",
    "colab": {
      "gpuType": "T4",
      "provenance": []
    },
    "kernelspec": {
      "display_name": "Python 3",
      "name": "python3"
    },
    "language_info": {
      "name": "python"
    }
  },
  "nbformat": 4,
  "nbformat_minor": 0
}